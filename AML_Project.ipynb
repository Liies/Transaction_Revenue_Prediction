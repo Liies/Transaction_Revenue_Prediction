{
 "cells": [
  {
   "cell_type": "code",
   "execution_count": 2,
   "metadata": {},
   "outputs": [],
   "source": [
    "import pandas as pd\n",
    "import numpy as np\n",
    "import matplotlib.pyplot as plt"
   ]
  },
  {
   "cell_type": "code",
   "execution_count": 3,
   "metadata": {},
   "outputs": [
    {
     "name": "stderr",
     "output_type": "stream",
     "text": [
      "/opt/anaconda3/lib/python3.7/site-packages/IPython/core/interactiveshell.py:3146: DtypeWarning: Columns (2) have mixed types.Specify dtype option on import or set low_memory=False.\n",
      "  interactivity=interactivity, compiler=compiler, result=result)\n"
     ]
    }
   ],
   "source": [
    "df = pd.read_csv('train2.csv')"
   ]
  },
  {
   "cell_type": "code",
   "execution_count": 4,
   "metadata": {},
   "outputs": [
    {
     "data": {
      "text/plain": [
       "(903653, 55)"
      ]
     },
     "execution_count": 4,
     "metadata": {},
     "output_type": "execute_result"
    }
   ],
   "source": [
    "df.shape"
   ]
  },
  {
   "cell_type": "code",
   "execution_count": 5,
   "metadata": {},
   "outputs": [
    {
     "data": {
      "text/html": [
       "<div>\n",
       "<style scoped>\n",
       "    .dataframe tbody tr th:only-of-type {\n",
       "        vertical-align: middle;\n",
       "    }\n",
       "\n",
       "    .dataframe tbody tr th {\n",
       "        vertical-align: top;\n",
       "    }\n",
       "\n",
       "    .dataframe thead th {\n",
       "        text-align: right;\n",
       "    }\n",
       "</style>\n",
       "<table border=\"1\" class=\"dataframe\">\n",
       "  <thead>\n",
       "    <tr style=\"text-align: right;\">\n",
       "      <th></th>\n",
       "      <th>channelGrouping</th>\n",
       "      <th>date</th>\n",
       "      <th>fullVisitorId</th>\n",
       "      <th>sessionId</th>\n",
       "      <th>socialEngagementType</th>\n",
       "      <th>visitId</th>\n",
       "      <th>visitNumber</th>\n",
       "      <th>visitStartTime</th>\n",
       "      <th>datasplit</th>\n",
       "      <th>campaign</th>\n",
       "      <th>...</th>\n",
       "      <th>language</th>\n",
       "      <th>screenColors</th>\n",
       "      <th>screenResolution</th>\n",
       "      <th>deviceCategory</th>\n",
       "      <th>criteriaParameters</th>\n",
       "      <th>page</th>\n",
       "      <th>slot</th>\n",
       "      <th>gclId</th>\n",
       "      <th>adNetworkType</th>\n",
       "      <th>isVideoAd</th>\n",
       "    </tr>\n",
       "  </thead>\n",
       "  <tbody>\n",
       "    <tr>\n",
       "      <th>47995</th>\n",
       "      <td>Organic Search</td>\n",
       "      <td>20170111</td>\n",
       "      <td>9052251306982570939</td>\n",
       "      <td>9052251306982570939_1484169946</td>\n",
       "      <td>Not Socially Engaged</td>\n",
       "      <td>1484169946</td>\n",
       "      <td>2</td>\n",
       "      <td>1484169946</td>\n",
       "      <td>train</td>\n",
       "      <td>(not set)</td>\n",
       "      <td>...</td>\n",
       "      <td>not available in demo dataset</td>\n",
       "      <td>not available in demo dataset</td>\n",
       "      <td>not available in demo dataset</td>\n",
       "      <td>desktop</td>\n",
       "      <td>not available in demo dataset</td>\n",
       "      <td>NaN</td>\n",
       "      <td>NaN</td>\n",
       "      <td>NaN</td>\n",
       "      <td>NaN</td>\n",
       "      <td>NaN</td>\n",
       "    </tr>\n",
       "    <tr>\n",
       "      <th>357689</th>\n",
       "      <td>Organic Search</td>\n",
       "      <td>20161027</td>\n",
       "      <td>2660321074902847791</td>\n",
       "      <td>2660321074902847791_1477571888</td>\n",
       "      <td>Not Socially Engaged</td>\n",
       "      <td>1477571888</td>\n",
       "      <td>1</td>\n",
       "      <td>1477571888</td>\n",
       "      <td>train</td>\n",
       "      <td>(not set)</td>\n",
       "      <td>...</td>\n",
       "      <td>not available in demo dataset</td>\n",
       "      <td>not available in demo dataset</td>\n",
       "      <td>not available in demo dataset</td>\n",
       "      <td>desktop</td>\n",
       "      <td>not available in demo dataset</td>\n",
       "      <td>NaN</td>\n",
       "      <td>NaN</td>\n",
       "      <td>NaN</td>\n",
       "      <td>NaN</td>\n",
       "      <td>NaN</td>\n",
       "    </tr>\n",
       "    <tr>\n",
       "      <th>848497</th>\n",
       "      <td>Referral</td>\n",
       "      <td>20161231</td>\n",
       "      <td>4048523715129424339</td>\n",
       "      <td>4048523715129424339_1483183149</td>\n",
       "      <td>Not Socially Engaged</td>\n",
       "      <td>1483183149</td>\n",
       "      <td>1</td>\n",
       "      <td>1483183149</td>\n",
       "      <td>train</td>\n",
       "      <td>(not set)</td>\n",
       "      <td>...</td>\n",
       "      <td>not available in demo dataset</td>\n",
       "      <td>not available in demo dataset</td>\n",
       "      <td>not available in demo dataset</td>\n",
       "      <td>desktop</td>\n",
       "      <td>not available in demo dataset</td>\n",
       "      <td>NaN</td>\n",
       "      <td>NaN</td>\n",
       "      <td>NaN</td>\n",
       "      <td>NaN</td>\n",
       "      <td>NaN</td>\n",
       "    </tr>\n",
       "    <tr>\n",
       "      <th>593981</th>\n",
       "      <td>Organic Search</td>\n",
       "      <td>20170720</td>\n",
       "      <td>7445235885559107095</td>\n",
       "      <td>7445235885559107095_1500562656</td>\n",
       "      <td>Not Socially Engaged</td>\n",
       "      <td>1500562656</td>\n",
       "      <td>98</td>\n",
       "      <td>1500562656</td>\n",
       "      <td>train</td>\n",
       "      <td>(not set)</td>\n",
       "      <td>...</td>\n",
       "      <td>not available in demo dataset</td>\n",
       "      <td>not available in demo dataset</td>\n",
       "      <td>not available in demo dataset</td>\n",
       "      <td>desktop</td>\n",
       "      <td>not available in demo dataset</td>\n",
       "      <td>NaN</td>\n",
       "      <td>NaN</td>\n",
       "      <td>NaN</td>\n",
       "      <td>NaN</td>\n",
       "      <td>NaN</td>\n",
       "    </tr>\n",
       "    <tr>\n",
       "      <th>419086</th>\n",
       "      <td>Social</td>\n",
       "      <td>20161205</td>\n",
       "      <td>7657330241941478996</td>\n",
       "      <td>7657330241941478996_1480954439</td>\n",
       "      <td>Not Socially Engaged</td>\n",
       "      <td>1480954439</td>\n",
       "      <td>1</td>\n",
       "      <td>1480954439</td>\n",
       "      <td>train</td>\n",
       "      <td>(not set)</td>\n",
       "      <td>...</td>\n",
       "      <td>not available in demo dataset</td>\n",
       "      <td>not available in demo dataset</td>\n",
       "      <td>not available in demo dataset</td>\n",
       "      <td>desktop</td>\n",
       "      <td>not available in demo dataset</td>\n",
       "      <td>NaN</td>\n",
       "      <td>NaN</td>\n",
       "      <td>NaN</td>\n",
       "      <td>NaN</td>\n",
       "      <td>NaN</td>\n",
       "    </tr>\n",
       "    <tr>\n",
       "      <th>260774</th>\n",
       "      <td>Referral</td>\n",
       "      <td>20170429</td>\n",
       "      <td>8166026685667862357</td>\n",
       "      <td>8166026685667862357_1493498454</td>\n",
       "      <td>Not Socially Engaged</td>\n",
       "      <td>1493498454</td>\n",
       "      <td>5</td>\n",
       "      <td>1493498454</td>\n",
       "      <td>train</td>\n",
       "      <td>(not set)</td>\n",
       "      <td>...</td>\n",
       "      <td>not available in demo dataset</td>\n",
       "      <td>not available in demo dataset</td>\n",
       "      <td>not available in demo dataset</td>\n",
       "      <td>desktop</td>\n",
       "      <td>not available in demo dataset</td>\n",
       "      <td>NaN</td>\n",
       "      <td>NaN</td>\n",
       "      <td>NaN</td>\n",
       "      <td>NaN</td>\n",
       "      <td>NaN</td>\n",
       "    </tr>\n",
       "    <tr>\n",
       "      <th>888732</th>\n",
       "      <td>Direct</td>\n",
       "      <td>20160907</td>\n",
       "      <td>7037951125338805401</td>\n",
       "      <td>7037951125338805401_1473252429</td>\n",
       "      <td>Not Socially Engaged</td>\n",
       "      <td>1473252429</td>\n",
       "      <td>1</td>\n",
       "      <td>1473252460</td>\n",
       "      <td>train</td>\n",
       "      <td>(not set)</td>\n",
       "      <td>...</td>\n",
       "      <td>not available in demo dataset</td>\n",
       "      <td>not available in demo dataset</td>\n",
       "      <td>not available in demo dataset</td>\n",
       "      <td>desktop</td>\n",
       "      <td>not available in demo dataset</td>\n",
       "      <td>NaN</td>\n",
       "      <td>NaN</td>\n",
       "      <td>NaN</td>\n",
       "      <td>NaN</td>\n",
       "      <td>NaN</td>\n",
       "    </tr>\n",
       "  </tbody>\n",
       "</table>\n",
       "<p>7 rows × 55 columns</p>\n",
       "</div>"
      ],
      "text/plain": [
       "       channelGrouping      date        fullVisitorId  \\\n",
       "47995   Organic Search  20170111  9052251306982570939   \n",
       "357689  Organic Search  20161027  2660321074902847791   \n",
       "848497        Referral  20161231  4048523715129424339   \n",
       "593981  Organic Search  20170720  7445235885559107095   \n",
       "419086          Social  20161205  7657330241941478996   \n",
       "260774        Referral  20170429  8166026685667862357   \n",
       "888732          Direct  20160907  7037951125338805401   \n",
       "\n",
       "                             sessionId  socialEngagementType     visitId  \\\n",
       "47995   9052251306982570939_1484169946  Not Socially Engaged  1484169946   \n",
       "357689  2660321074902847791_1477571888  Not Socially Engaged  1477571888   \n",
       "848497  4048523715129424339_1483183149  Not Socially Engaged  1483183149   \n",
       "593981  7445235885559107095_1500562656  Not Socially Engaged  1500562656   \n",
       "419086  7657330241941478996_1480954439  Not Socially Engaged  1480954439   \n",
       "260774  8166026685667862357_1493498454  Not Socially Engaged  1493498454   \n",
       "888732  7037951125338805401_1473252429  Not Socially Engaged  1473252429   \n",
       "\n",
       "        visitNumber  visitStartTime datasplit   campaign  ...  \\\n",
       "47995             2      1484169946     train  (not set)  ...   \n",
       "357689            1      1477571888     train  (not set)  ...   \n",
       "848497            1      1483183149     train  (not set)  ...   \n",
       "593981           98      1500562656     train  (not set)  ...   \n",
       "419086            1      1480954439     train  (not set)  ...   \n",
       "260774            5      1493498454     train  (not set)  ...   \n",
       "888732            1      1473252460     train  (not set)  ...   \n",
       "\n",
       "                             language                   screenColors  \\\n",
       "47995   not available in demo dataset  not available in demo dataset   \n",
       "357689  not available in demo dataset  not available in demo dataset   \n",
       "848497  not available in demo dataset  not available in demo dataset   \n",
       "593981  not available in demo dataset  not available in demo dataset   \n",
       "419086  not available in demo dataset  not available in demo dataset   \n",
       "260774  not available in demo dataset  not available in demo dataset   \n",
       "888732  not available in demo dataset  not available in demo dataset   \n",
       "\n",
       "                     screenResolution deviceCategory  \\\n",
       "47995   not available in demo dataset        desktop   \n",
       "357689  not available in demo dataset        desktop   \n",
       "848497  not available in demo dataset        desktop   \n",
       "593981  not available in demo dataset        desktop   \n",
       "419086  not available in demo dataset        desktop   \n",
       "260774  not available in demo dataset        desktop   \n",
       "888732  not available in demo dataset        desktop   \n",
       "\n",
       "                   criteriaParameters page  slot  gclId  adNetworkType  \\\n",
       "47995   not available in demo dataset  NaN   NaN    NaN            NaN   \n",
       "357689  not available in demo dataset  NaN   NaN    NaN            NaN   \n",
       "848497  not available in demo dataset  NaN   NaN    NaN            NaN   \n",
       "593981  not available in demo dataset  NaN   NaN    NaN            NaN   \n",
       "419086  not available in demo dataset  NaN   NaN    NaN            NaN   \n",
       "260774  not available in demo dataset  NaN   NaN    NaN            NaN   \n",
       "888732  not available in demo dataset  NaN   NaN    NaN            NaN   \n",
       "\n",
       "        isVideoAd  \n",
       "47995         NaN  \n",
       "357689        NaN  \n",
       "848497        NaN  \n",
       "593981        NaN  \n",
       "419086        NaN  \n",
       "260774        NaN  \n",
       "888732        NaN  \n",
       "\n",
       "[7 rows x 55 columns]"
      ]
     },
     "execution_count": 5,
     "metadata": {},
     "output_type": "execute_result"
    }
   ],
   "source": [
    "df.sample(7)"
   ]
  },
  {
   "cell_type": "markdown",
   "metadata": {},
   "source": [
    "# Data exploration"
   ]
  },
  {
   "cell_type": "code",
   "execution_count": 6,
   "metadata": {},
   "outputs": [
    {
     "data": {
      "text/plain": [
       "channelGrouping                   0\n",
       "date                              0\n",
       "fullVisitorId                     0\n",
       "sessionId                         0\n",
       "socialEngagementType              0\n",
       "visitId                           0\n",
       "visitNumber                       0\n",
       "visitStartTime                    0\n",
       "datasplit                         0\n",
       "campaign                          0\n",
       "source                            0\n",
       "medium                            0\n",
       "keyword                      502929\n",
       "isTrueDirect                 629648\n",
       "referralPath                 572712\n",
       "adContent                    892707\n",
       "visits                            0\n",
       "hits                              0\n",
       "pageviews                       100\n",
       "bounces                      453023\n",
       "newVisits                    200593\n",
       "transactionRevenue           892138\n",
       "continent                         0\n",
       "subContinent                      0\n",
       "country                           0\n",
       "region                            0\n",
       "metro                             0\n",
       "city                              0\n",
       "cityId                            0\n",
       "networkDomain                     0\n",
       "latitude                          0\n",
       "longitude                         0\n",
       "networkLocation                   0\n",
       "browser                           0\n",
       "browserVersion                    0\n",
       "browserSize                       0\n",
       "operatingSystem                   0\n",
       "operatingSystemVersion            0\n",
       "isMobile                          0\n",
       "mobileDeviceBranding              0\n",
       "mobileDeviceModel                 0\n",
       "mobileInputSelector               0\n",
       "mobileDeviceInfo                  0\n",
       "mobileDeviceMarketingName         0\n",
       "flashVersion                      0\n",
       "language                          0\n",
       "screenColors                      0\n",
       "screenResolution                  0\n",
       "deviceCategory                    0\n",
       "criteriaParameters                0\n",
       "page                         882193\n",
       "slot                         882193\n",
       "gclId                        882092\n",
       "adNetworkType                882193\n",
       "isVideoAd                    882193\n",
       "dtype: int64"
      ]
     },
     "execution_count": 6,
     "metadata": {},
     "output_type": "execute_result"
    }
   ],
   "source": [
    "df.isnull().sum()"
   ]
  },
  {
   "cell_type": "code",
   "execution_count": 15,
   "metadata": {},
   "outputs": [
    {
     "data": {
      "text/plain": [
       "channelGrouping               object\n",
       "date                           int64\n",
       "fullVisitorId                 object\n",
       "sessionId                     object\n",
       "socialEngagementType          object\n",
       "visitId                        int64\n",
       "visitNumber                    int64\n",
       "visitStartTime                 int64\n",
       "datasplit                     object\n",
       "campaign                      object\n",
       "source                        object\n",
       "medium                        object\n",
       "keyword                       object\n",
       "isTrueDirect                  object\n",
       "referralPath                  object\n",
       "adContent                     object\n",
       "visits                         int64\n",
       "hits                           int64\n",
       "pageviews                    float64\n",
       "bounces                      float64\n",
       "newVisits                    float64\n",
       "transactionRevenue           float64\n",
       "continent                     object\n",
       "subContinent                  object\n",
       "country                       object\n",
       "region                        object\n",
       "metro                         object\n",
       "city                          object\n",
       "cityId                        object\n",
       "networkDomain                 object\n",
       "latitude                      object\n",
       "longitude                     object\n",
       "networkLocation               object\n",
       "browser                       object\n",
       "browserVersion                object\n",
       "browserSize                   object\n",
       "operatingSystem               object\n",
       "operatingSystemVersion        object\n",
       "isMobile                        bool\n",
       "mobileDeviceBranding          object\n",
       "mobileDeviceModel             object\n",
       "mobileInputSelector           object\n",
       "mobileDeviceInfo              object\n",
       "mobileDeviceMarketingName     object\n",
       "flashVersion                  object\n",
       "language                      object\n",
       "screenColors                  object\n",
       "screenResolution              object\n",
       "deviceCategory                object\n",
       "criteriaParameters            object\n",
       "page                         float64\n",
       "slot                          object\n",
       "gclId                         object\n",
       "adNetworkType                 object\n",
       "isVideoAd                     object\n",
       "dtype: object"
      ]
     },
     "execution_count": 15,
     "metadata": {},
     "output_type": "execute_result"
    }
   ],
   "source": [
    "df.dtypes"
   ]
  },
  {
   "cell_type": "code",
   "execution_count": 9,
   "metadata": {},
   "outputs": [
    {
     "data": {
      "text/html": [
       "<div>\n",
       "<style scoped>\n",
       "    .dataframe tbody tr th:only-of-type {\n",
       "        vertical-align: middle;\n",
       "    }\n",
       "\n",
       "    .dataframe tbody tr th {\n",
       "        vertical-align: top;\n",
       "    }\n",
       "\n",
       "    .dataframe thead th {\n",
       "        text-align: right;\n",
       "    }\n",
       "</style>\n",
       "<table border=\"1\" class=\"dataframe\">\n",
       "  <thead>\n",
       "    <tr style=\"text-align: right;\">\n",
       "      <th></th>\n",
       "      <th>index</th>\n",
       "      <th>count</th>\n",
       "    </tr>\n",
       "  </thead>\n",
       "  <tbody>\n",
       "    <tr>\n",
       "      <th>0</th>\n",
       "      <td>Americas</td>\n",
       "      <td>450377</td>\n",
       "    </tr>\n",
       "    <tr>\n",
       "      <th>1</th>\n",
       "      <td>Asia</td>\n",
       "      <td>223698</td>\n",
       "    </tr>\n",
       "    <tr>\n",
       "      <th>2</th>\n",
       "      <td>Europe</td>\n",
       "      <td>198311</td>\n",
       "    </tr>\n",
       "    <tr>\n",
       "      <th>3</th>\n",
       "      <td>Oceania</td>\n",
       "      <td>15054</td>\n",
       "    </tr>\n",
       "    <tr>\n",
       "      <th>4</th>\n",
       "      <td>Africa</td>\n",
       "      <td>14745</td>\n",
       "    </tr>\n",
       "    <tr>\n",
       "      <th>5</th>\n",
       "      <td>(not set)</td>\n",
       "      <td>1468</td>\n",
       "    </tr>\n",
       "  </tbody>\n",
       "</table>\n",
       "</div>"
      ],
      "text/plain": [
       "       index   count\n",
       "0   Americas  450377\n",
       "1       Asia  223698\n",
       "2     Europe  198311\n",
       "3    Oceania   15054\n",
       "4     Africa   14745\n",
       "5  (not set)    1468"
      ]
     },
     "execution_count": 9,
     "metadata": {},
     "output_type": "execute_result"
    }
   ],
   "source": [
    " df['continent'].value_counts().reset_index(name='count')[:10]"
   ]
  },
  {
   "cell_type": "code",
   "execution_count": 7,
   "metadata": {},
   "outputs": [
    {
     "data": {
      "text/html": [
       "<div>\n",
       "<style scoped>\n",
       "    .dataframe tbody tr th:only-of-type {\n",
       "        vertical-align: middle;\n",
       "    }\n",
       "\n",
       "    .dataframe tbody tr th {\n",
       "        vertical-align: top;\n",
       "    }\n",
       "\n",
       "    .dataframe thead th {\n",
       "        text-align: right;\n",
       "    }\n",
       "</style>\n",
       "<table border=\"1\" class=\"dataframe\">\n",
       "  <thead>\n",
       "    <tr style=\"text-align: right;\">\n",
       "      <th></th>\n",
       "      <th>index</th>\n",
       "      <th>count</th>\n",
       "    </tr>\n",
       "  </thead>\n",
       "  <tbody>\n",
       "    <tr>\n",
       "      <th>0</th>\n",
       "      <td>United States</td>\n",
       "      <td>364744</td>\n",
       "    </tr>\n",
       "    <tr>\n",
       "      <th>1</th>\n",
       "      <td>India</td>\n",
       "      <td>51140</td>\n",
       "    </tr>\n",
       "    <tr>\n",
       "      <th>2</th>\n",
       "      <td>United Kingdom</td>\n",
       "      <td>37393</td>\n",
       "    </tr>\n",
       "    <tr>\n",
       "      <th>3</th>\n",
       "      <td>Canada</td>\n",
       "      <td>25869</td>\n",
       "    </tr>\n",
       "    <tr>\n",
       "      <th>4</th>\n",
       "      <td>Vietnam</td>\n",
       "      <td>24598</td>\n",
       "    </tr>\n",
       "    <tr>\n",
       "      <th>5</th>\n",
       "      <td>Turkey</td>\n",
       "      <td>20522</td>\n",
       "    </tr>\n",
       "    <tr>\n",
       "      <th>6</th>\n",
       "      <td>Thailand</td>\n",
       "      <td>20123</td>\n",
       "    </tr>\n",
       "    <tr>\n",
       "      <th>7</th>\n",
       "      <td>Germany</td>\n",
       "      <td>19980</td>\n",
       "    </tr>\n",
       "    <tr>\n",
       "      <th>8</th>\n",
       "      <td>Brazil</td>\n",
       "      <td>19783</td>\n",
       "    </tr>\n",
       "    <tr>\n",
       "      <th>9</th>\n",
       "      <td>Japan</td>\n",
       "      <td>19731</td>\n",
       "    </tr>\n",
       "  </tbody>\n",
       "</table>\n",
       "</div>"
      ],
      "text/plain": [
       "            index   count\n",
       "0   United States  364744\n",
       "1           India   51140\n",
       "2  United Kingdom   37393\n",
       "3          Canada   25869\n",
       "4         Vietnam   24598\n",
       "5          Turkey   20522\n",
       "6        Thailand   20123\n",
       "7         Germany   19980\n",
       "8          Brazil   19783\n",
       "9           Japan   19731"
      ]
     },
     "execution_count": 7,
     "metadata": {},
     "output_type": "execute_result"
    }
   ],
   "source": [
    " df['country'].value_counts().reset_index(name='count')[:10]"
   ]
  },
  {
   "cell_type": "code",
   "execution_count": 8,
   "metadata": {},
   "outputs": [
    {
     "data": {
      "text/html": [
       "<div>\n",
       "<style scoped>\n",
       "    .dataframe tbody tr th:only-of-type {\n",
       "        vertical-align: middle;\n",
       "    }\n",
       "\n",
       "    .dataframe tbody tr th {\n",
       "        vertical-align: top;\n",
       "    }\n",
       "\n",
       "    .dataframe thead th {\n",
       "        text-align: right;\n",
       "    }\n",
       "</style>\n",
       "<table border=\"1\" class=\"dataframe\">\n",
       "  <thead>\n",
       "    <tr style=\"text-align: right;\">\n",
       "      <th></th>\n",
       "      <th>index</th>\n",
       "      <th>count</th>\n",
       "    </tr>\n",
       "  </thead>\n",
       "  <tbody>\n",
       "    <tr>\n",
       "      <th>0</th>\n",
       "      <td>United States</td>\n",
       "      <td>364744</td>\n",
       "    </tr>\n",
       "    <tr>\n",
       "      <th>1</th>\n",
       "      <td>Canada</td>\n",
       "      <td>25869</td>\n",
       "    </tr>\n",
       "    <tr>\n",
       "      <th>2</th>\n",
       "      <td>Brazil</td>\n",
       "      <td>19783</td>\n",
       "    </tr>\n",
       "    <tr>\n",
       "      <th>3</th>\n",
       "      <td>Mexico</td>\n",
       "      <td>13225</td>\n",
       "    </tr>\n",
       "    <tr>\n",
       "      <th>4</th>\n",
       "      <td>Peru</td>\n",
       "      <td>5546</td>\n",
       "    </tr>\n",
       "    <tr>\n",
       "      <th>5</th>\n",
       "      <td>Argentina</td>\n",
       "      <td>5037</td>\n",
       "    </tr>\n",
       "    <tr>\n",
       "      <th>6</th>\n",
       "      <td>Colombia</td>\n",
       "      <td>4880</td>\n",
       "    </tr>\n",
       "    <tr>\n",
       "      <th>7</th>\n",
       "      <td>Venezuela</td>\n",
       "      <td>2132</td>\n",
       "    </tr>\n",
       "    <tr>\n",
       "      <th>8</th>\n",
       "      <td>Chile</td>\n",
       "      <td>1950</td>\n",
       "    </tr>\n",
       "    <tr>\n",
       "      <th>9</th>\n",
       "      <td>Ecuador</td>\n",
       "      <td>1251</td>\n",
       "    </tr>\n",
       "  </tbody>\n",
       "</table>\n",
       "</div>"
      ],
      "text/plain": [
       "           index   count\n",
       "0  United States  364744\n",
       "1         Canada   25869\n",
       "2         Brazil   19783\n",
       "3         Mexico   13225\n",
       "4           Peru    5546\n",
       "5      Argentina    5037\n",
       "6       Colombia    4880\n",
       "7      Venezuela    2132\n",
       "8          Chile    1950\n",
       "9        Ecuador    1251"
      ]
     },
     "execution_count": 8,
     "metadata": {},
     "output_type": "execute_result"
    }
   ],
   "source": [
    "df[df['continent']=='Americas'][\"country\"].value_counts().reset_index(name='count')[:10]"
   ]
  },
  {
   "cell_type": "code",
   "execution_count": 11,
   "metadata": {},
   "outputs": [],
   "source": [
    "def displayPiechart(columnName, df):\n",
    "    data = df[columnName].value_counts()[:5]\n",
    "    plt.figure(figsize=(20,10))\n",
    "    data.plot(colormap='Paired',kind='pie',autopct='%1.2f%%')\n",
    "    #data.plot(kind='pie',autopct='%1.2f%%')"
   ]
  },
  {
   "cell_type": "code",
   "execution_count": 12,
   "metadata": {},
   "outputs": [
    {
     "data": {
      "image/png": "[encoded data removed]",
      "text/plain": [
       "<Figure size 1440x720 with 1 Axes>"
      ]
     },
     "metadata": {},
     "output_type": "display_data"
    }
   ],
   "source": [
    "displayPiechart('browser',df)"
   ]
  },
  {
   "cell_type": "code",
   "execution_count": 13,
   "metadata": {},
   "outputs": [
    {
     "data": {
      "image/png": "[encoded data removed]",
      "text/plain": [
       "<Figure size 1440x720 with 1 Axes>"
      ]
     },
     "metadata": {},
     "output_type": "display_data"
    }
   ],
   "source": [
    "displayPiechart('operatingSystem',df)"
   ]
  },
  {
   "cell_type": "code",
   "execution_count": 14,
   "metadata": {},
   "outputs": [
    {
     "data": {
      "image/png": "[encoded data removed]",
      "text/plain": [
       "<Figure size 1440x720 with 1 Axes>"
      ]
     },
     "metadata": {},
     "output_type": "display_data"
    }
   ],
   "source": [
    "displayPiechart('source',df)"
   ]
  },
  {
   "cell_type": "code",
   "execution_count": 241,
   "metadata": {},
   "outputs": [],
   "source": [
    "df['date'] = df['date'].astype(str)\n",
    "df['date'] = pd.to_datetime(df['date'], format='%Y-%m-%d')\n",
    "df[\"month\"] = pd.to_datetime(df['date'],format='%Y-%m-%d').dt.month\n",
    "df['day_of_week'] = pd.to_datetime(df['date'],format='%Y-%m-%d').dt.dayofweek\n",
    "df['day'] = pd.to_datetime(df['date'],format='%Y-%m-%d').dt.day"
   ]
  },
  {
   "cell_type": "code",
   "execution_count": 242,
   "metadata": {},
   "outputs": [
    {
     "data": {
      "text/plain": [
       "0         4\n",
       "1         4\n",
       "2         4\n",
       "3         4\n",
       "4         4\n",
       "         ..\n",
       "903648    2\n",
       "903649    2\n",
       "903650    2\n",
       "903651    2\n",
       "903652    2\n",
       "Name: day_of_week, Length: 903653, dtype: int64"
      ]
     },
     "execution_count": 242,
     "metadata": {},
     "output_type": "execute_result"
    }
   ],
   "source": [
    "df['day_of_week']"
   ]
  },
  {
   "cell_type": "code",
   "execution_count": 99,
   "metadata": {},
   "outputs": [
    {
     "data": {
      "text/plain": [
       "<matplotlib.axes._subplots.AxesSubplot at 0x125a59dd0>"
      ]
     },
     "execution_count": 99,
     "metadata": {},
     "output_type": "execute_result"
    },
    {
     "data": {
      "image/png": "[encoded data removed]",
      "text/plain": [
       "<Figure size 1440x720 with 1 Axes>"
      ]
     },
     "metadata": {
      "needs_background": "light"
     },
     "output_type": "display_data"
    }
   ],
   "source": [
    "data = df['day_of_week'].value_counts()\n",
    "plt.figure(figsize=(20,10))\n",
    "res = data.plot(colormap='Paired',kind='bar')\n",
    "res.set_xticklabels(res.get_xmajorticklabels(), fontsize = 18)\n",
    "res"
   ]
  },
  {
   "cell_type": "code",
   "execution_count": 73,
   "metadata": {},
   "outputs": [
    {
     "data": {
      "text/plain": [
       "<matplotlib.axes._subplots.AxesSubplot at 0x11b711cd0>"
      ]
     },
     "execution_count": 73,
     "metadata": {},
     "output_type": "execute_result"
    },
    {
     "data": {
      "image/png": "[encoded data removed]",
      "text/plain": [
       "<Figure size 1440x720 with 1 Axes>"
      ]
     },
     "metadata": {
      "needs_background": "light"
     },
     "output_type": "display_data"
    }
   ],
   "source": [
    "data = df['month'].value_counts()\n",
    "plt.figure(figsize=(20,10))\n",
    "res = data.plot(colormap='Paired',kind='bar')\n",
    "res.set_xticklabels(res.get_xmajorticklabels(), fontsize = 18)\n",
    "res"
   ]
  },
  {
   "cell_type": "code",
   "execution_count": 69,
   "metadata": {},
   "outputs": [
    {
     "data": {
      "text/plain": [
       "<matplotlib.axes._subplots.AxesSubplot at 0x126a83bd0>"
      ]
     },
     "execution_count": 69,
     "metadata": {},
     "output_type": "execute_result"
    },
    {
     "data": {
      "image/png": "[encoded data removed]",
      "text/plain": [
       "<Figure size 1440x720 with 1 Axes>"
      ]
     },
     "metadata": {
      "needs_background": "light"
     },
     "output_type": "display_data"
    }
   ],
   "source": [
    "data = df['continent'].value_counts()\n",
    "plt.figure(figsize=(20,10))\n",
    "res = data.plot(colormap='Paired',kind='bar')\n",
    "res.set_xticklabels(res.get_xmajorticklabels(), fontsize = 18)\n",
    "res"
   ]
  },
  {
   "cell_type": "markdown",
   "metadata": {},
   "source": [
    "# Data Cleaning"
   ]
  },
  {
   "cell_type": "code",
   "execution_count": 6,
   "metadata": {},
   "outputs": [],
   "source": [
    "df['transactionRevenue'].fillna(0, inplace=True)"
   ]
  },
  {
   "cell_type": "code",
   "execution_count": 6,
   "metadata": {},
   "outputs": [
    {
     "data": {
      "text/plain": [
       "channelGrouping                   0\n",
       "date                              0\n",
       "fullVisitorId                     0\n",
       "sessionId                         0\n",
       "socialEngagementType              0\n",
       "visitId                           0\n",
       "visitNumber                       0\n",
       "visitStartTime                    0\n",
       "datasplit                         0\n",
       "campaign                          0\n",
       "source                            0\n",
       "medium                            0\n",
       "keyword                      502929\n",
       "isTrueDirect                 629648\n",
       "referralPath                 572712\n",
       "adContent                    892707\n",
       "visits                            0\n",
       "hits                              0\n",
       "pageviews                       100\n",
       "bounces                      453023\n",
       "newVisits                    200593\n",
       "transactionRevenue                0\n",
       "continent                         0\n",
       "subContinent                      0\n",
       "country                           0\n",
       "region                            0\n",
       "metro                             0\n",
       "city                              0\n",
       "cityId                            0\n",
       "networkDomain                     0\n",
       "latitude                          0\n",
       "longitude                         0\n",
       "networkLocation                   0\n",
       "browser                           0\n",
       "browserVersion                    0\n",
       "browserSize                       0\n",
       "operatingSystem                   0\n",
       "operatingSystemVersion            0\n",
       "isMobile                          0\n",
       "mobileDeviceBranding              0\n",
       "mobileDeviceModel                 0\n",
       "mobileInputSelector               0\n",
       "mobileDeviceInfo                  0\n",
       "mobileDeviceMarketingName         0\n",
       "flashVersion                      0\n",
       "language                          0\n",
       "screenColors                      0\n",
       "screenResolution                  0\n",
       "deviceCategory                    0\n",
       "criteriaParameters                0\n",
       "page                         882193\n",
       "slot                         882193\n",
       "gclId                        882092\n",
       "adNetworkType                882193\n",
       "isVideoAd                    882193\n",
       "dtype: int64"
      ]
     },
     "execution_count": 6,
     "metadata": {},
     "output_type": "execute_result"
    }
   ],
   "source": [
    "df.isnull().sum()"
   ]
  },
  {
   "cell_type": "code",
   "execution_count": 7,
   "metadata": {},
   "outputs": [],
   "source": [
    "dfnull = df.isnull().sum().reset_index(name='count').sort_values(by=['count'],ascending=False)"
   ]
  },
  {
   "cell_type": "code",
   "execution_count": 8,
   "metadata": {},
   "outputs": [],
   "source": [
    "dfnull[\"count in %\"] = round((dfnull[\"count\"] *100)/df.shape[0], 1)"
   ]
  },
  {
   "cell_type": "code",
   "execution_count": 9,
   "metadata": {},
   "outputs": [
    {
     "data": {
      "text/html": [
       "<div>\n",
       "<style scoped>\n",
       "    .dataframe tbody tr th:only-of-type {\n",
       "        vertical-align: middle;\n",
       "    }\n",
       "\n",
       "    .dataframe tbody tr th {\n",
       "        vertical-align: top;\n",
       "    }\n",
       "\n",
       "    .dataframe thead th {\n",
       "        text-align: right;\n",
       "    }\n",
       "</style>\n",
       "<table border=\"1\" class=\"dataframe\">\n",
       "  <thead>\n",
       "    <tr style=\"text-align: right;\">\n",
       "      <th></th>\n",
       "      <th>index</th>\n",
       "      <th>count</th>\n",
       "      <th>count in %</th>\n",
       "    </tr>\n",
       "  </thead>\n",
       "  <tbody>\n",
       "    <tr>\n",
       "      <th>15</th>\n",
       "      <td>adContent</td>\n",
       "      <td>892707</td>\n",
       "      <td>98.8</td>\n",
       "    </tr>\n",
       "    <tr>\n",
       "      <th>51</th>\n",
       "      <td>slot</td>\n",
       "      <td>882193</td>\n",
       "      <td>97.6</td>\n",
       "    </tr>\n",
       "    <tr>\n",
       "      <th>50</th>\n",
       "      <td>page</td>\n",
       "      <td>882193</td>\n",
       "      <td>97.6</td>\n",
       "    </tr>\n",
       "    <tr>\n",
       "      <th>54</th>\n",
       "      <td>isVideoAd</td>\n",
       "      <td>882193</td>\n",
       "      <td>97.6</td>\n",
       "    </tr>\n",
       "    <tr>\n",
       "      <th>53</th>\n",
       "      <td>adNetworkType</td>\n",
       "      <td>882193</td>\n",
       "      <td>97.6</td>\n",
       "    </tr>\n",
       "    <tr>\n",
       "      <th>52</th>\n",
       "      <td>gclId</td>\n",
       "      <td>882092</td>\n",
       "      <td>97.6</td>\n",
       "    </tr>\n",
       "    <tr>\n",
       "      <th>13</th>\n",
       "      <td>isTrueDirect</td>\n",
       "      <td>629648</td>\n",
       "      <td>69.7</td>\n",
       "    </tr>\n",
       "    <tr>\n",
       "      <th>14</th>\n",
       "      <td>referralPath</td>\n",
       "      <td>572712</td>\n",
       "      <td>63.4</td>\n",
       "    </tr>\n",
       "    <tr>\n",
       "      <th>12</th>\n",
       "      <td>keyword</td>\n",
       "      <td>502929</td>\n",
       "      <td>55.7</td>\n",
       "    </tr>\n",
       "    <tr>\n",
       "      <th>19</th>\n",
       "      <td>bounces</td>\n",
       "      <td>453023</td>\n",
       "      <td>50.1</td>\n",
       "    </tr>\n",
       "    <tr>\n",
       "      <th>20</th>\n",
       "      <td>newVisits</td>\n",
       "      <td>200593</td>\n",
       "      <td>22.2</td>\n",
       "    </tr>\n",
       "  </tbody>\n",
       "</table>\n",
       "</div>"
      ],
      "text/plain": [
       "            index   count  count in %\n",
       "15      adContent  892707        98.8\n",
       "51           slot  882193        97.6\n",
       "50           page  882193        97.6\n",
       "54      isVideoAd  882193        97.6\n",
       "53  adNetworkType  882193        97.6\n",
       "52          gclId  882092        97.6\n",
       "13   isTrueDirect  629648        69.7\n",
       "14   referralPath  572712        63.4\n",
       "12        keyword  502929        55.7\n",
       "19        bounces  453023        50.1\n",
       "20      newVisits  200593        22.2"
      ]
     },
     "execution_count": 9,
     "metadata": {},
     "output_type": "execute_result"
    }
   ],
   "source": [
    "dfnull[dfnull[\"count in %\"] > 0]"
   ]
  },
  {
   "cell_type": "code",
   "execution_count": 10,
   "metadata": {},
   "outputs": [
    {
     "data": {
      "text/plain": [
       "['adContent',\n",
       " 'slot',\n",
       " 'page',\n",
       " 'isVideoAd',\n",
       " 'adNetworkType',\n",
       " 'gclId',\n",
       " 'isTrueDirect',\n",
       " 'referralPath',\n",
       " 'keyword',\n",
       " 'bounces']"
      ]
     },
     "execution_count": 10,
     "metadata": {},
     "output_type": "execute_result"
    }
   ],
   "source": [
    "dfnull[dfnull[\"count in %\"] > 50]['index'].tolist()"
   ]
  },
  {
   "cell_type": "code",
   "execution_count": 11,
   "metadata": {},
   "outputs": [],
   "source": [
    "columnsToDrop = dfnull[dfnull[\"count in %\"] > 50]['index'].tolist()"
   ]
  },
  {
   "cell_type": "code",
   "execution_count": 12,
   "metadata": {},
   "outputs": [],
   "source": [
    "df.drop(columnsToDrop,1, inplace=True)"
   ]
  },
  {
   "cell_type": "code",
   "execution_count": 13,
   "metadata": {},
   "outputs": [],
   "source": [
    "df.drop(['date'],1, inplace=True)"
   ]
  },
  {
   "cell_type": "code",
   "execution_count": 14,
   "metadata": {},
   "outputs": [
    {
     "data": {
      "text/plain": [
       "(903653, 44)"
      ]
     },
     "execution_count": 14,
     "metadata": {},
     "output_type": "execute_result"
    }
   ],
   "source": [
    "df.shape"
   ]
  },
  {
   "cell_type": "code",
   "execution_count": 15,
   "metadata": {},
   "outputs": [
    {
     "name": "stdout",
     "output_type": "stream",
     "text": [
      "socialEngagementType ['Not Socially Engaged']\n",
      "datasplit ['train']\n",
      "visits [1]\n",
      "cityId ['not available in demo dataset']\n",
      "latitude ['not available in demo dataset']\n",
      "longitude ['not available in demo dataset']\n",
      "networkLocation ['not available in demo dataset']\n",
      "browserVersion ['not available in demo dataset']\n",
      "browserSize ['not available in demo dataset']\n",
      "operatingSystemVersion ['not available in demo dataset']\n",
      "mobileDeviceBranding ['not available in demo dataset']\n",
      "mobileDeviceModel ['not available in demo dataset']\n",
      "mobileInputSelector ['not available in demo dataset']\n",
      "mobileDeviceInfo ['not available in demo dataset']\n",
      "mobileDeviceMarketingName ['not available in demo dataset']\n",
      "flashVersion ['not available in demo dataset']\n",
      "language ['not available in demo dataset']\n",
      "screenColors ['not available in demo dataset']\n",
      "screenResolution ['not available in demo dataset']\n",
      "criteriaParameters ['not available in demo dataset']\n"
     ]
    }
   ],
   "source": [
    "columns = df.columns\n",
    "columnOneValue = []\n",
    "for c in columns:\n",
    "    if len(df[c].unique()) < 2:\n",
    "        columnOneValue.append(c)\n",
    "        print(c,df[c].unique())"
   ]
  },
  {
   "cell_type": "code",
   "execution_count": 16,
   "metadata": {
    "scrolled": true
   },
   "outputs": [],
   "source": [
    "df.drop(columnOneValue,1, inplace=True)"
   ]
  },
  {
   "cell_type": "code",
   "execution_count": 21,
   "metadata": {},
   "outputs": [
    {
     "data": {
      "text/plain": [
       "channelGrouping            0\n",
       "fullVisitorId              0\n",
       "sessionId                  0\n",
       "visitId                    0\n",
       "visitNumber                0\n",
       "visitStartTime             0\n",
       "campaign                   0\n",
       "source                     0\n",
       "medium                     0\n",
       "hits                       0\n",
       "pageviews                100\n",
       "newVisits             200593\n",
       "transactionRevenue         0\n",
       "continent                  0\n",
       "subContinent               0\n",
       "country                    0\n",
       "region                     0\n",
       "metro                      0\n",
       "city                       0\n",
       "networkDomain              0\n",
       "browser                    0\n",
       "operatingSystem            0\n",
       "isMobile                   0\n",
       "deviceCategory             0\n",
       "dtype: int64"
      ]
     },
     "execution_count": 21,
     "metadata": {},
     "output_type": "execute_result"
    }
   ],
   "source": [
    "df.isnull().sum()"
   ]
  },
  {
   "cell_type": "code",
   "execution_count": 17,
   "metadata": {},
   "outputs": [],
   "source": [
    "df['pageviews'].fillna(df['pageviews'].value_counts().index[0], inplace=True)\n",
    "df['newVisits'].fillna(0, inplace=True)"
   ]
  },
  {
   "cell_type": "code",
   "execution_count": 43,
   "metadata": {},
   "outputs": [
    {
     "name": "stdout",
     "output_type": "stream",
     "text": [
      "channelGrouping ['Organic Search' 'Referral' 'Paid Search' 'Affiliates' 'Direct' 'Display'\n",
      " 'Social' '(Other)']\n",
      "visitNumber [  1   2   3   5  11   4  57   6  56   7  20   8  15   9  25  24  14  89\n",
      " 136  13  85  10 105  22  21  48  18  26  17  83  38  84  27  42 100  31\n",
      "  16  30  59  50  19  51  29 160  52  12  63  23  47  49  28  34 178  88\n",
      "  33 317  93 140  35  41  91  92  74 309  43  61  46  45  32 108  86 195\n",
      "  36 236  72 162 235  90  76  77  94  96  73  78  97  87 304 106 107 389\n",
      "  68  98 132  58 266 267 221  39 121 143 142 174 175 189 191  55 190 104\n",
      " 245 204  37  82 137 206 101  62 110 156 158 157 159 138 109 194 193 147\n",
      " 254  71  53 144 145 146  80 253  99 134 135 102  44 130  95  75 103 315\n",
      "  70  69 117 163 154 153 283  65 262 263 295 297 298 219  64 296 155 141\n",
      " 169 170  60 207  54 187 133 118 264  67  66 126  40 122 325 326 197 167\n",
      " 196 188 279 185 230 161 186 278 139 234 233 168 115 114 119 150 149 148\n",
      "  79 306 123 131 171 124 129 258 112 218 183 199 261 259 260 200 220 152\n",
      " 151 111 202 203 205 173 125 198 280 281 177 182 127 120 116  81 373 113\n",
      " 212 213 226 225 348 224 128 176 269 250 355 370 285 369 286 287 247 248\n",
      " 288 308 165 166 164 362 214 346 345 215 216 179 244 184 329 243 255 257\n",
      " 217 256 181 192 252 251 180 359 356 358 357 277 229 223 271 273 272 172\n",
      " 208 292 291 265 232 228 227 341 340 339 338 209 210 211 301 299 300 303\n",
      " 302 307 324 238 239 222 268 270 395 231 284 363 364 328 319 320 201 322\n",
      " 323 375 276 241 242 289 240 388 282 274 390 391 249 275 294 293 316 246\n",
      " 321 354 349 350 353 352 351 347 343 342 344 383 290 385 384 374 327 318\n",
      " 393 335 334 333 237 371 372 312 313 314 336 337 386 310 311 394 360 361\n",
      " 305 376 379 378 377 387]\n",
      "visitStartTime [1472830385 1472880147 1472865386 ... 1483526434 1483592864 1483574474]\n",
      "source ['google' 'baidu' 'googleweblight.com' 'sites.google.com' 'bing'\n",
      " 'siliconvalley.about.com' 'analytics.google.com' 'Partners' '(direct)'\n",
      " 'mall.googleplex.com' 'google.com' 'google.co.in' 'qiita.com' 'google.pl'\n",
      " 'mail.google.com' 'hangouts.google.com' 'dealspotr.com'\n",
      " 'optimize.google.com' 'arstechnica.com' 'dfa' 'docs.google.com'\n",
      " 'sashihara.jp' 'google.gatewaycdi.com' 'phandroid.com' 'images.google'\n",
      " 'youtube.com' 'l.facebook.com' 'facebook.com' 'quora.com'\n",
      " 'm.facebook.com' 'reddit.com' 'google.co.jp' 'aol' 'moma.corp.google.com'\n",
      " 'blog.golang.org' 'yahoo' 't.co' 'nordic.businessinsider.com'\n",
      " 'duckduckgo.com' 'm.baidu.com' 'tpc.googlesyndication.com'\n",
      " 'googleads.g.doubleclick.net'\n",
      " '0.shared.bow.cat2.ads-bow.vu.borg.google.com:9856' 'online-metrics.com'\n",
      " 'cv.il3.ub.edu' 'gophergala.com' 'plus.google.com' 's0.2mdn.net'\n",
      " 'keep.google.com' 'svirkar.mtv.corp.google.com:8888'\n",
      " 'connect.googleforwork.com' 'google.com.pk' 'support.google.com'\n",
      " 'gdeals.googleplex.com' 'google.com.au' 'int.search.tb.ask.com'\n",
      " 'googleux.perksplus.com' 'groups.google.com' 'm.youtube.com'\n",
      " 'productforums.google.com' 'web.skype.com' 'ask' 'search.mysearch.com'\n",
      " 'course.fso.fullsail.edu' 'google.co.uk'\n",
      " 'toronto.mtv.corp.google.com:8080' 'awics.corp.google.com'\n",
      " 'aulagrado.esic.edu' 'businessinsider.com' 'outlook.live.com'\n",
      " 'lunametrics.com' 'search.tb.ask.com' 'm.reddit.com'\n",
      " '0.shared.bow.cat2.ads-bow.qk.borg.google.com:9801' 'new.vk.com'\n",
      " 'linkedin.com' 'm.vk.com' 'google.com.sg' 'lnkd.in'\n",
      " 'col128.mail.live.com' 'gsuite.google.com' 'google.ru'\n",
      " 'staging.talkgadget.google.com'\n",
      " '0.shared.bow.cat2.ads-bow.yw.borg.google.com:9875'\n",
      " 'analytics.corp.google.com' 'us.search.yahoo.com' 'search.xfinity.com'\n",
      " 'plus.url.google.com' 'google.com.ua' 'csfirst.withgoogle.com' 'yandex'\n",
      " 'm.sogou.com' '0.shared.bow.cat2.ads-bow.yw.borg.google.com:9850'\n",
      " 'images.google.de' 'google.ro' 'pinterest.com' 'google.com.br'\n",
      " 'it.search.yahoo.com' 'google.ca' 'google.es'\n",
      " '0.shared.bow.cat2.ads-bow.yw.borg.google.com:9815' 'google.co.th'\n",
      " 'mail.aol.com' 'cases.corp.google.com' 'cc.csusm.edu'\n",
      " 'grow.googleplex.com' 'feedly.com' 'uk.search.yahoo.com'\n",
      " 'lm.facebook.com' 'web.facebook.com' 'sg.search.yahoo.com'\n",
      " 'search.incredibar.com' 'malaysia.search.yahoo.com' 'github.com'\n",
      " 'google.fr' 'suche.t-online.de' 'adwords.google.com'\n",
      " 'dynamite.sandbox.google.com' 'g3doc.corp.google.com'\n",
      " 'ca.search.yahoo.com' 'drawnames.com' 'search.earthlink.net' 'amazon.com'\n",
      " 'tw.search.yahoo.com' 'l.messenger.com' 'inbox.google.com'\n",
      " 'au.search.yahoo.com' 'se.search.yahoo.com' 'google.cl' '(not set)'\n",
      " 'mg.mail.yahoo.com' 'msn.com' 'apis.mail.yahoo.com'\n",
      " '0.shared.bow.cat2.ads-bow.lf.borg.google.com:9857' 'google.com.vn'\n",
      " 'ph.search.yahoo.com' 'google.com.tw' 'away.vk.com'\n",
      " 'datastudio.google.com' 'learn.temple.edu' 'plus.sandbox.google.com'\n",
      " 'messenger.com' 'wap.sogou.com' 'kristiyan.users.x20web.corp.google.com'\n",
      " 'google.ch' 'trainup.withgoogle.com' 'getpocket.com' 'startpage.com'\n",
      " 'google.com.co' 'google.co.kr' 'mail-attachment.googleusercontent.com'\n",
      " 'nl.yhs4.search.yahoo.com' 'luyaochen.mtv.corp.google.com:8080'\n",
      " 'myactivity.google.com' 'google.it' 'newclasses.nyu.edu' 'google.com.hk'\n",
      " 'blognone.com' '0.shared.bow.cat2.ads-bow.lf.borg.google.com:9898'\n",
      " 'seroundtable.com' 'gatewaycdi.com' 'vk.com' 'in.search.yahoo.com'\n",
      " 'ics-devel-west.qa.adz.google.com' 'google.de' 'google.com.ph'\n",
      " 'm.mg.mail.yahoo.com' 'squishable.com' 'twitter.com' 'images.google.ie'\n",
      " 'marketingland.com' 'kik.com' 'uweoconnect.extn.washington.edu'\n",
      " 'adwords-displayads.googleusercontent.com' 'mysearch.com' 'flipboard.com'\n",
      " 'uk.businessinsider.com' 'baidu.com' 'images.google.co.id'\n",
      " 'de.pinterest.com' 'se.yhs4.search.yahoo.com'\n",
      " 'gtm-preprod-dogfood.corp.google.com'\n",
      " '0.shared.bow.cat2.ads-bow.qk.borg.google.com:9848'\n",
      " 'watchword.googleplex.com' 'cn.bing.com' 'google.nl' 'web.telegram.org'\n",
      " 'images.google.lk' 'notifications.sandbox.google.com' 'h.yandex-team.ru'\n",
      " 'plusapp.sandbox.google.com' 'nl.search.yahoo.com' 'm.yz.sm.cn'\n",
      " 'cl-cards.googleplex.com' 'chatwork.com' 'wheretoget.it'\n",
      " 'images.google.fr' 'google.com.mx' 'localhost' 'google.cz'\n",
      " 'admin.globalaccess.com' 'online.fullsail.edu' 'tumblr.com'\n",
      " 'desktop.google.com.ua' 'fr.search.yahoo.com' 'business.facebook.com'\n",
      " 'getiriver.com' 'xbidprodmirror.corp.google.com'\n",
      " '0.shared.bow.cat2.ads-bow.yw.borg.google.com:9820' 'google.co.id'\n",
      " 'allo.corp.google.com' 'amp.reddit.com'\n",
      " '0.shared.bow.cat2.ads-bow.qk.borg.google.com:9885' 'en.wikipedia.org'\n",
      " 'kr.pinterest.com' 'finance.yahoo.com'\n",
      " 'adwords-next-nightly.qa.adz.google.com' 'markets.businessinsider.com'\n",
      " 'google.co.nz' '0.shared.bow.cat2.ads-bow.yw.borg.google.com:9835'\n",
      " '0.shared.bow.cat2.ads-bow.yw.borg.google.com:9856'\n",
      " 'adwords-next-devel.qa.adz.google.com' 'us-mg5.mail.yahoo.com'\n",
      " 'kidrex.org' '0.shared.bow.cat2.ads-bow.yw.borg.google.com:9861'\n",
      " 'earth.google.com' 'goto.google.com' 'so.com' 'cse.google.com'\n",
      " 'crowdcompute.googleplex.com' 'spaces.google.com'\n",
      " '0.shared.bow.cat2.ads-bow.vu.borg.google.com:9859' 'mobile.facebook.com'\n",
      " 'google.bg' 'news.ycombinator.com' 'search.1and1.com'\n",
      " 'learn.colorado.edu' 'search.snapdo.com' 'msn' 'start.wow.com'\n",
      " 'us.yhs4.search.yahoo.com' 'bing.com' 'ex.fit.edu' 'searchlock.com'\n",
      " 'google.sk' 'fr.yhs4.search.yahoo.com'\n",
      " '0.shared.bow.cat2.ads-bow.yw.borg.google.com:9896' 'centrum.cz'\n",
      " 'ddimitrop.irv.corp.google.com:9001'\n",
      " '0.shared.bow.cat2.ads-bow.yw.borg.google.com:9892' 'calendar.google.com'\n",
      " 'search.myway.com' 'google.gr' 'ausdroid.net' 'gdeals-stg.googleplex.com'\n",
      " 'google.be' 'es.search.yahoo.com' 'int.search.mywebsearch.com'\n",
      " 'x20web.corp.google.com' 'dailydot.com' 'redbull.corp.google.com'\n",
      " 'oct-obscura.sandbox.google.com'\n",
      " '0.shared.bow.cat2.ads-bow.yw.borg.google.com:9849' 'google.co.za'\n",
      " 'images.google.co.in' '0.shared.bow.cat2.ads-bow.qk.borg.google.com:9819'\n",
      " 'plusapp-autopush.corp.google.com' 'login.corp.google.com'\n",
      " 'maktoob.search.yahoo.com'\n",
      " '0.shared.bow.cat2.ads-bow.yw.borg.google.com:9880'\n",
      " 'invincible.mtv.corp.google.com:8080' 'go.mail.ru'\n",
      " '0.muppet1.frontend.gws.muppet-exp.ij-q.borg.google.com:14634'\n",
      " 'basecamp.com' '0.shared.bow.cat2.ads-bow.qk.borg.google.com:9831'\n",
      " '0.shared.bow.cat2.ads-bow.yw.borg.google.com:9885'\n",
      " '0.shared.bow.cat2.ads-bow.yw.borg.google.com:9816'\n",
      " 'benkraft.mtv.corp.google.com:9000'\n",
      " '0.shared.bow.cat2.ads-bow.tg.borg.google.com:9864' 'chat.google.com'\n",
      " 'myaccount.google.com'\n",
      " '0.shared.bow.cat2.ads-bow.vu.borg.google.com:9883' 'google.se'\n",
      " 'blackboard.neu.edu' 'fletch.teams.x20web.corp.google.com' 'evernote.com'\n",
      " '0.shared.bow.cat2.ads-bow.yw.borg.google.com:9862' 'ixquick.com'\n",
      " 'search.pch.com' 'mail.verizon.com' 'google.co.il' 'wanelo.com'\n",
      " 'images.google.at' '0.shared.bow.cat2.ads-bow.lf.borg.google.com:9879'\n",
      " 'adwords-displayads-nightly.corp.google.com'\n",
      " '0.shared.bow.cat2.ads-bow.lf.borg.google.com:9817' 'google.com.sa'\n",
      " '0.shared.bow.cat2.ads-bow.yw.borg.google.com:9859' 'br.pinterest.com'\n",
      " 'pinpoint.corp.google.com' 'prod.facebook.com'\n",
      " '0.shared.bow.cat2.ads-bow.lf.borg.google.com:9824' 'lmgtfy.com'\n",
      " 'collaborate.northwestern.edu' 'members.s7.exacttarget.com'\n",
      " 'wunderbin.corp.google.com' 'google.at' 'images.google.lt'\n",
      " 'web.mail.comcast.net'\n",
      " '0.shared.bow.cat2.ads-bow.yw.borg.google.com:9836' 'google.com.ng'\n",
      " '0.shared.bow.cat2.ads-bow.yw.borg.google.com:9839' 'ad.doubleclick.net'\n",
      " 'oscar.corp.google.com' 'growcms.googleplex.com' 'web.whatsapp.com'\n",
      " 'dena-design.qiita.com'\n",
      " '0.shared.bow.cat2.ads-bow.yw.borg.google.com:9895'\n",
      " 'papyrus.mtv.corp.google.com:9021' 'yt-go-12345.googleplex.com'\n",
      " 'google.rs' '0.shared.bow.cat2.ads-bow.qk.borg.google.com:9899'\n",
      " 'ps-dm.reddit.com' 'blackboard.towson.edu' 'risk360-prod.corp.google.com'\n",
      " 'images.google.com.au' 'us.reddit.com' 'google.no'\n",
      " '0.shared.bow.cat2.ads-bow.vk.borg.google.com:9878'\n",
      " '0.shared.bow.cat2.ads-bow.qk.borg.google.com:9830'\n",
      " 'adwords-prod-west.qa.adz.google.com' 'brewmaster.corp.google.com'\n",
      " '0.shared.bow.cat2.ads-bow.yw.borg.google.com:9801' 'computerworld.com'\n",
      " '0.shared.bow.cat2.ads-bow.yw.borg.google.com:9865'\n",
      " '0.shared.bow.cat2.ads-bow.yw.borg.google.com:9851'\n",
      " '0.shared.bow.cat2.ads-bow.vw.borg.google.com:9891' 'digg.com'\n",
      " 'it-mg42.mail.yahoo.com' 'intranet' '9to5google.com'\n",
      " '0.shared.bow.cat2.ads-bow.yw.borg.google.com:9813'\n",
      " '0.shared.bow.cat2.ads-bow.qk.borg.google.com:9846' 'images.google.pt'\n",
      " 'google.lk' 'businessinsider.in' 'newsstand.google.com' 'yahoo.com'\n",
      " 'moodle.aurora.edu' '0.shared.bow.cat2.ads-bow.yw.borg.google.com:9858'\n",
      " 'gtm-dogfood.corp.google.com' 'tweetdeck.twitter.com'\n",
      " 'br.search.yahoo.com' 'hosted.verticalresponse.com'\n",
      " '0.shared.bow.cat2.ads-bow.qk.borg.google.com:9859'\n",
      " 'cases2.corp.google.com' 'mx.search.yahoo.com'\n",
      " '0.shared.bow.cat2.ads-bow.yw.borg.google.com:9847'\n",
      " 'biztools.corp.google.com' 'us.wow.com' 'm.sp.sm.cn'\n",
      " 'hk.search.yahoo.com' 'voice.google.com' 's7-eu4.ixquick.com'\n",
      " 'espanol.search.yahoo.com' 'meetup.com'\n",
      " '0.shared.bow.cat2.ads-bow.tl.borg.google.com:9847' 'google.com.ar'\n",
      " 'id.search.yahoo.com' 'it.pinterest.com'\n",
      " 'mmisciagna2.sbo.corp.google.com:8000' 'google.com.pe'\n",
      " '0.shared.bow.cat2.ads-bow.qk.borg.google.com:9834' 'good.barkpost.com'\n",
      " 'gist.github.com' '0.shared.bow.cat2.ads-bow.yw.borg.google.com:9876'\n",
      " 'takeout.google.com' '0.shared.bow.cat2.ads-bow.qk.borg.google.com:9873'\n",
      " '0.shared.bow.cat2.ads-bow.lf.borg.google.com:9860'\n",
      " '0.shared.bow.cat2.ads-bow.yw.borg.google.com:9898']\n",
      "medium ['organic' 'referral' 'cpc' 'affiliate' '(none)' 'cpm' '(not set)']\n",
      "hits [  1   2   3   4   5   6   7   8   9  10  11  12  13  14  15  16  17  18\n",
      "  19  20  21  22  23  24  25  26  27  28  29  30  31  32  33  34  35  36\n",
      "  37  38  39  41  42  43  44  45  46  47  48  49  50  51  52  54  55  57\n",
      "  65  67  72  74  79  82  83  92 103 109 134 143 144  66  73 112 189  62\n",
      "  63  81  91 102 161  40  86  99  61  69  80  89 100  53  56  58  71  76\n",
      "  77  95 229  60  64  68  85  94  96 107 110 113 147 331 108  59  70  98\n",
      " 119 303 218 146  75  78  93 101 149 106 114 156 138 141 175  88  97 115\n",
      "  90 183 227  87 126 148 130 176  84 202 121 122 207 140 193 302 142 105\n",
      " 116 196 111 201 133 159 117 131 150 168 311 249 127 137 500 155 118 125\n",
      " 139 154 123 124 104 162 167 170 132 136 151 166 187 279 328 174 386 282\n",
      " 286 220 120 291 135 163 273 292 224 242 145 181 185 257 165 250 357 200\n",
      " 160 169 217 177 353 152 128 191 129 387 182 208 347 209 199 172 153 210\n",
      " 262 385 171 232 382 378 215 307 226 276 157 213 471 233 301 333 192 247\n",
      " 340 259 158 406 164 240 198 246 206 197 188 251 489 445 238 179 205 483\n",
      " 278 228 195 234 203 283 261 243 268 180 178 194 258 239 204 216 361 437\n",
      " 184 244 308 237]\n",
      "pageviews [  1.   2.   3.   4.   5.   6.   7.   8.   9.  10.  11.  12.  13.  14.\n",
      "  15.  16.  17.  18.  20.  19.  21.  25.  22.  26.  23.  24.  30.  27.\n",
      "  29.  28.  32.  31.  34.  33.  38.  35.  40.  36.  37.  39.  43.  45.\n",
      "  47.  52.  44.  50.  46.  49.  51.  56.  59.  71.  57.  82.  84.  92.\n",
      "  90.  41.  79. 138.  48.  69. 112.  42.  65.  60.  63.  68.  58.  74.\n",
      " 165.  53.  54.  55.  61.  70.  80.  78.  72. 188.  73.  62.  75.  86.\n",
      " 197. 148.  67. 102.  64. 103. 144.  81. 119. 104. 128.  87. 111.  66.\n",
      "  83. 135.  94.  91.  99.  77. 118. 202. 127.  93. 106. 155. 117.  76.\n",
      "  89.  85. 143. 105. 115.  95. 110. 137. 120. 116. 208. 126. 400. 101.\n",
      " 108. 333.  97.  96.  98. 125. 113. 327. 154. 121. 183. 123. 141. 224.\n",
      "  88. 195. 343. 156. 193. 100. 150. 122. 145. 174. 147. 131. 169. 164.\n",
      " 249. 114. 189. 223. 124. 139. 341. 469. 309. 162. 146. 270. 107. 153.\n",
      " 233. 161. 179. 129. 220. 191. 323. 431. 351. 132. 305. 175. 130. 166.\n",
      " 185. 245. 219. 167. 173. 109. 133. 149. 136. 168. 358. 466. 182. 340.\n",
      " 215. 142. 275. 134. 196. 324. 300. 190. 176. 210. 201. 232. 140. 199.\n",
      " 429. 151. 186.]\n",
      "newVisits [1. 0.]\n",
      "transactionRevenue [0.0000e+00 3.7860e+07 3.0667e+08 ... 3.3526e+08 3.0750e+07 6.9390e+07]\n",
      "continent ['Asia' 'Oceania' 'Europe' 'Americas' 'Africa' '(not set)']\n"
     ]
    },
    {
     "name": "stdout",
     "output_type": "stream",
     "text": [
      "subContinent ['Western Asia' 'Australasia' 'Southern Europe' 'Southeast Asia'\n",
      " 'Northern Europe' 'Southern Asia' 'Western Europe' 'South America'\n",
      " 'Eastern Asia' 'Eastern Europe' 'Northern America' 'Western Africa'\n",
      " 'Central America' 'Eastern Africa' '(not set)' 'Caribbean'\n",
      " 'Southern Africa' 'Northern Africa' 'Central Asia' 'Middle Africa'\n",
      " 'Melanesia' 'Micronesian Region' 'Polynesia']\n",
      "country ['Turkey' 'Australia' 'Spain' 'Indonesia' 'United Kingdom' 'Italy'\n",
      " 'Pakistan' 'Austria' 'Netherlands' 'India' 'France' 'Brazil' 'China'\n",
      " 'Singapore' 'Argentina' 'Poland' 'Germany' 'Canada' 'Thailand' 'Hungary'\n",
      " 'Malaysia' 'Denmark' 'Taiwan' 'Russia' 'Nigeria' 'Belgium' 'South Korea'\n",
      " 'Chile' 'Ireland' 'Philippines' 'Greece' 'Mexico' 'Montenegro'\n",
      " 'United States' 'Bangladesh' 'Japan' 'Slovenia' 'Czechia' 'Sweden'\n",
      " 'United Arab Emirates' 'Switzerland' 'Portugal' 'Peru' 'Hong Kong'\n",
      " 'Vietnam' 'Sri Lanka' 'Serbia' 'Norway' 'Romania' 'Kenya' 'Ukraine'\n",
      " 'Israel' 'Slovakia' '(not set)' 'Lithuania' 'Puerto Rico'\n",
      " 'Bosnia & Herzegovina' 'Croatia' 'South Africa' 'Paraguay' 'Botswana'\n",
      " 'Colombia' 'Uruguay' 'Algeria' 'Finland' 'Guatemala' 'Egypt' 'Malta'\n",
      " 'Bulgaria' 'New Zealand' 'Kuwait' 'Uzbekistan' 'Saudi Arabia' 'Cyprus'\n",
      " 'Estonia' 'Côte d’Ivoire' 'Morocco' 'Tunisia' 'Venezuela'\n",
      " 'Dominican Republic' 'Senegal' 'Cape Verde' 'Costa Rica' 'Kazakhstan'\n",
      " 'Macedonia (FYROM)' 'Oman' 'Laos' 'Ethiopia' 'Panama' 'Belarus'\n",
      " 'Myanmar (Burma)' 'Moldova' 'Zimbabwe' 'Bahrain' 'Mongolia' 'Ghana'\n",
      " 'Albania' 'Kosovo' 'Georgia' 'Tanzania' 'Bolivia' 'Cambodia'\n",
      " 'Turks & Caicos Islands' 'Iraq' 'Jordan' 'Lebanon' 'Ecuador' 'Madagascar'\n",
      " 'Togo' 'Gambia' 'Jamaica' 'Trinidad & Tobago' 'Mauritius' 'Libya'\n",
      " 'Mauritania' 'El Salvador' 'Azerbaijan' 'Nicaragua' 'Palestine' 'Réunion'\n",
      " 'Iceland' 'Greenland' 'Armenia' 'Haiti' 'Uganda' 'Qatar'\n",
      " 'St. Kitts & Nevis' 'Somalia' 'Cameroon' 'Namibia' 'Latvia'\n",
      " 'Congo - Kinshasa' 'New Caledonia' 'Rwanda' 'Kyrgyzstan' 'Honduras'\n",
      " 'Nepal' 'Benin' 'Luxembourg' 'Guinea' 'Belize' 'Guinea-Bissau' 'Sudan'\n",
      " 'Yemen' 'Gabon' 'Maldives' 'Mozambique' 'French Guiana' 'Zambia' 'Macau'\n",
      " 'Tajikistan' 'Angola' 'Guadeloupe' 'Martinique' 'Brunei' 'Guyana'\n",
      " 'St. Lucia' 'Iran' 'Monaco' 'Swaziland' 'Curaçao' 'Bermuda' 'Guernsey'\n",
      " 'Afghanistan' 'Northern Mariana Islands' 'Guam' 'Antigua & Barbuda'\n",
      " 'Sint Maarten' 'Andorra' 'St. Vincent & Grenadines' 'Fiji' 'Mali'\n",
      " 'Papua New Guinea' 'Jersey' 'Faroe Islands' 'Cayman Islands' 'Chad'\n",
      " 'French Polynesia' 'Malawi' 'Suriname' 'Barbados' 'U.S. Virgin Islands'\n",
      " 'Djibouti' 'Mayotte' 'Aruba' 'Lesotho' 'Equatorial Guinea' 'Burkina Faso'\n",
      " 'Grenada' 'Norfolk Island' 'Isle of Man' 'Liechtenstein' 'Vanuatu'\n",
      " 'Sierra Leone' 'Bahamas' 'Åland Islands' 'St. Pierre & Miquelon'\n",
      " 'Gibraltar' 'British Virgin Islands' 'Burundi' 'Turkmenistan' 'Niger'\n",
      " 'Samoa' 'Timor-Leste' 'Syria' 'Comoros' 'Liberia' 'Bhutan' 'Cook Islands'\n",
      " 'American Samoa' 'Dominica' 'Anguilla' 'Caribbean Netherlands'\n",
      " 'Marshall Islands' 'Congo - Brazzaville' 'Seychelles' 'San Marino'\n",
      " 'Central African Republic' 'St. Martin' 'São Tomé & Príncipe' 'Eritrea'\n",
      " 'St. Barthélemy']\n",
      "browser ['Chrome' 'Firefox' 'UC Browser' 'Internet Explorer' 'Safari' 'Edge'\n",
      " 'Opera Mini' 'Opera' 'BlackBerry' 'Safari (in-app)' 'Coc Coc'\n",
      " 'Mozilla Compatible Agent' 'ADM' 'MRCHROME' 'Amazon Silk' 'YaBrowser'\n",
      " 'Android Webview' 'Puffin' 'Nokia Browser' 'Maxthon' 'Nintendo Browser'\n",
      " 'Android Browser' 'Lunascape' 'IE with Chrome Frame' 'ThumbSniper'\n",
      " 'LYF_LS_4002_12' 'Mozilla' 'osee2unifiedRelease' 'NokiaE52-1' 'Iron'\n",
      " '[Use default User-agent string] LIVRENPOCHE' '(not set)'\n",
      " 'LYF_LS_4002_11' 'M5' 'Android Runtime' 'Apple-iPhone7C2' 'SeaMonkey'\n",
      " 'Konqueror' 'Seznam' 'Changa 99695759' 'no-ua' 'MQQBrowser' 'Nichrome'\n",
      " 'HTC802t_TD' 'DASH_JR_3G' 'DoCoMo' 'subjectAgent: NoticiasBoom' 'YE'\n",
      " 'User Agent' '0' 'Hisense M20-M_LTE' 'Reddit' 'TCL P500M' 'CSM Click']\n",
      "operatingSystem ['Windows' 'Macintosh' 'Linux' 'Android' 'iOS' 'Chrome OS' 'BlackBerry'\n",
      " '(not set)' 'Samsung' 'Windows Phone' 'Xbox' 'Nintendo Wii' 'Firefox OS'\n",
      " 'Nintendo WiiU' 'FreeBSD' 'Nokia' 'NTT DoCoMo' 'Nintendo 3DS' 'SunOS'\n",
      " 'OpenBSD']\n",
      "isMobile [0 1]\n",
      "deviceCategory ['desktop' 'mobile' 'tablet']\n"
     ]
    }
   ],
   "source": [
    "columns = df.columns\n",
    "columnOneValue = []\n",
    "for c in columns:\n",
    "    if len(df[c].unique()) > 1:\n",
    "        columnOneValue.append(c)\n",
    "        print(c,df[c].unique())"
   ]
  },
  {
   "cell_type": "code",
   "execution_count": 41,
   "metadata": {},
   "outputs": [],
   "source": [
    "df['isMobile'] = df['isMobile'].astype(int)"
   ]
  },
  {
   "cell_type": "code",
   "execution_count": 20,
   "metadata": {},
   "outputs": [],
   "source": [
    "df.drop(['fullVisitorId','sessionId','visitId','campaign','city','metro','region',\n",
    "         'networkDomain'],1,inplace=True)"
   ]
  },
  {
   "cell_type": "code",
   "execution_count": 26,
   "metadata": {},
   "outputs": [
    {
     "data": {
      "text/plain": [
       "channelGrouping        object\n",
       "visitNumber             int64\n",
       "visitStartTime          int64\n",
       "source                 object\n",
       "medium                 object\n",
       "hits                    int64\n",
       "pageviews             float64\n",
       "newVisits             float64\n",
       "transactionRevenue    float64\n",
       "continent              object\n",
       "subContinent           object\n",
       "country                object\n",
       "browser                object\n",
       "operatingSystem        object\n",
       "isMobile                int64\n",
       "deviceCategory         object\n",
       "dtype: object"
      ]
     },
     "execution_count": 26,
     "metadata": {},
     "output_type": "execute_result"
    }
   ],
   "source": [
    "df.dtypes"
   ]
  },
  {
   "cell_type": "code",
   "execution_count": 21,
   "metadata": {},
   "outputs": [],
   "source": [
    "def createDummies(columns,df):\n",
    "    newDf = pd.get_dummies(df[columns[0]], prefix=columns[0])\n",
    "    for column in columns[1:]:\n",
    "        newDf = pd.concat([newDf,pd.get_dummies(df[column], prefix=column)],axis=1, join=\"inner\")\n",
    "    return newDf"
   ]
  },
  {
   "cell_type": "code",
   "execution_count": 44,
   "metadata": {},
   "outputs": [],
   "source": [
    "newDf = createDummies(['channelGrouping','medium','continent','country'\n",
    "                       ,'browser','operatingSystem','deviceCategory'],df)"
   ]
  },
  {
   "cell_type": "code",
   "execution_count": 45,
   "metadata": {},
   "outputs": [
    {
     "data": {
      "text/plain": [
       "{'hits',\n",
       " 'isMobile',\n",
       " 'medium',\n",
       " 'newVisits',\n",
       " 'pageviews',\n",
       " 'subContinent',\n",
       " 'transactionRevenue',\n",
       " 'visitNumber',\n",
       " 'visitStartTime'}"
      ]
     },
     "execution_count": 45,
     "metadata": {},
     "output_type": "execute_result"
    }
   ],
   "source": [
    "set(df.columns) - set(['channelGrouping','source','continent','country'\n",
    "                       ,'browser','operatingSystem','deviceCategory'])"
   ]
  },
  {
   "cell_type": "code",
   "execution_count": 46,
   "metadata": {},
   "outputs": [],
   "source": [
    "dfClean = pd.concat([df[['hits','isMobile','newVisits','pageviews',\n",
    "                         'transactionRevenue','visitNumber','visitStartTime']],newDf],axis=1, join=\"inner\")"
   ]
  },
  {
   "cell_type": "code",
   "execution_count": 47,
   "metadata": {},
   "outputs": [
    {
     "data": {
      "text/plain": [
       "(903653, 327)"
      ]
     },
     "execution_count": 47,
     "metadata": {},
     "output_type": "execute_result"
    }
   ],
   "source": [
    "dfClean.shape"
   ]
  },
  {
   "cell_type": "code",
   "execution_count": 48,
   "metadata": {},
   "outputs": [],
   "source": [
    "Xcolumns = list(set(dfClean.columns)- set(['transactionRevenue','isMobile','newVisits']))"
   ]
  },
  {
   "cell_type": "code",
   "execution_count": 49,
   "metadata": {},
   "outputs": [
    {
     "data": {
      "text/plain": [
       "['country_Romania',\n",
       " 'channelGrouping_Affiliates',\n",
       " 'country_South Korea',\n",
       " 'country_Bahamas',\n",
       " 'country_Cameroon',\n",
       " 'country_Sierra Leone',\n",
       " 'country_Liechtenstein',\n",
       " 'country_Bahrain',\n",
       " 'country_Fiji',\n",
       " 'country_Madagascar',\n",
       " 'country_Djibouti',\n",
       " 'country_Mongolia',\n",
       " 'browser_TCL P500M',\n",
       " 'browser_0',\n",
       " 'operatingSystem_Windows',\n",
       " 'country_Liberia',\n",
       " 'country_New Caledonia',\n",
       " 'country_Malta',\n",
       " 'country_St. Kitts & Nevis',\n",
       " 'browser_Nokia Browser',\n",
       " 'browser_Puffin',\n",
       " 'country_Martinique',\n",
       " 'continent_Oceania',\n",
       " 'operatingSystem_Nintendo Wii',\n",
       " 'country_Bolivia',\n",
       " 'country_Slovakia',\n",
       " 'country_French Polynesia',\n",
       " 'country_Myanmar (Burma)',\n",
       " 'browser_Opera',\n",
       " 'country_Taiwan',\n",
       " 'country_Timor-Leste',\n",
       " 'country_Bhutan',\n",
       " 'country_United States',\n",
       " 'browser_Changa 99695759',\n",
       " 'country_Egypt',\n",
       " 'country_Bulgaria',\n",
       " 'country_Qatar',\n",
       " 'country_Uruguay',\n",
       " 'country_New Zealand',\n",
       " 'country_Zimbabwe',\n",
       " 'country_Afghanistan',\n",
       " 'country_Åland Islands',\n",
       " 'country_Algeria',\n",
       " 'country_Italy',\n",
       " 'browser_ThumbSniper',\n",
       " 'country_Colombia',\n",
       " 'country_Luxembourg',\n",
       " 'country_Tunisia',\n",
       " 'operatingSystem_Android',\n",
       " 'country_China',\n",
       " 'country_Guam',\n",
       " 'country_Jamaica',\n",
       " 'country_French Guiana',\n",
       " 'country_Macau',\n",
       " 'country_Zambia',\n",
       " 'channelGrouping_Display',\n",
       " 'browser_Safari',\n",
       " 'country_Kyrgyzstan',\n",
       " 'country_Papua New Guinea',\n",
       " 'browser_Nintendo Browser',\n",
       " 'browser_osee2unifiedRelease',\n",
       " 'browser_DASH_JR_3G',\n",
       " 'browser_Firefox',\n",
       " 'country_Montenegro',\n",
       " 'operatingSystem_Nokia',\n",
       " 'medium_referral',\n",
       " 'operatingSystem_Macintosh',\n",
       " 'browser_Android Webview',\n",
       " 'browser_YaBrowser',\n",
       " 'country_Moldova',\n",
       " 'operatingSystem_Nintendo 3DS',\n",
       " 'country_Spain',\n",
       " 'country_Ethiopia',\n",
       " 'medium_affiliate',\n",
       " 'country_Denmark',\n",
       " 'country_Albania',\n",
       " 'country_Brazil',\n",
       " 'country_Puerto Rico',\n",
       " 'country_Mali',\n",
       " 'operatingSystem_BlackBerry',\n",
       " 'country_Eritrea',\n",
       " 'country_U.S. Virgin Islands',\n",
       " 'continent_Africa',\n",
       " 'country_Guatemala',\n",
       " 'operatingSystem_Xbox',\n",
       " 'browser_Hisense M20-M_LTE',\n",
       " 'browser_Opera Mini',\n",
       " 'country_Suriname',\n",
       " 'country_Andorra',\n",
       " 'country_Chad',\n",
       " 'country_Japan',\n",
       " 'browser_BlackBerry',\n",
       " 'country_Kuwait',\n",
       " 'browser_Iron',\n",
       " 'country_Cambodia',\n",
       " 'country_Grenada',\n",
       " 'country_Indonesia',\n",
       " 'country_Laos',\n",
       " 'country_Côte d’Ivoire',\n",
       " 'country_Iraq',\n",
       " 'browser_Apple-iPhone7C2',\n",
       " 'country_Azerbaijan',\n",
       " 'country_Congo - Kinshasa',\n",
       " 'continent_Asia',\n",
       " 'country_Mexico',\n",
       " 'country_Brunei',\n",
       " 'country_Hong Kong',\n",
       " 'country_Finland',\n",
       " 'country_Niger',\n",
       " 'country_Saudi Arabia',\n",
       " 'country_San Marino',\n",
       " 'country_Botswana',\n",
       " 'country_Norfolk Island',\n",
       " 'country_Poland',\n",
       " 'country_Switzerland',\n",
       " 'country_British Virgin Islands',\n",
       " 'pageviews',\n",
       " 'browser_Android Runtime',\n",
       " 'channelGrouping_Paid Search',\n",
       " 'browser_Android Browser',\n",
       " 'country_Vietnam',\n",
       " 'country_Australia',\n",
       " 'country_Austria',\n",
       " 'country_Jersey',\n",
       " 'browser_DoCoMo',\n",
       " 'browser_Maxthon',\n",
       " 'country_Latvia',\n",
       " 'country_Turkey',\n",
       " 'operatingSystem_OpenBSD',\n",
       " 'country_Malaysia',\n",
       " 'country_Czechia',\n",
       " 'country_Portugal',\n",
       " 'browser_ADM',\n",
       " 'country_Paraguay',\n",
       " 'country_Guadeloupe',\n",
       " 'country_Sudan',\n",
       " 'country_Northern Mariana Islands',\n",
       " 'country_Belize',\n",
       " 'browser_Mozilla',\n",
       " 'browser_MRCHROME',\n",
       " 'operatingSystem_NTT DoCoMo',\n",
       " 'country_Oman',\n",
       " 'country_Ecuador',\n",
       " 'country_Nepal',\n",
       " 'country_Central African Republic',\n",
       " 'country_Togo',\n",
       " 'operatingSystem_Windows Phone',\n",
       " 'country_Guernsey',\n",
       " 'country_Kazakhstan',\n",
       " 'channelGrouping_Social',\n",
       " 'country_Cook Islands',\n",
       " 'browser_MQQBrowser',\n",
       " 'browser_Chrome',\n",
       " 'browser_LYF_LS_4002_12',\n",
       " 'country_Isle of Man',\n",
       " 'country_Haiti',\n",
       " 'country_Cape Verde',\n",
       " 'operatingSystem_Samsung',\n",
       " 'browser_User Agent',\n",
       " 'browser_Coc Coc',\n",
       " 'country_Equatorial Guinea',\n",
       " 'operatingSystem_Linux',\n",
       " 'browser_M5',\n",
       " 'browser_LYF_LS_4002_11',\n",
       " 'country_Burkina Faso',\n",
       " 'country_Benin',\n",
       " 'continent_Americas',\n",
       " 'country_Kosovo',\n",
       " 'country_Mauritius',\n",
       " 'country_Syria',\n",
       " 'country_São Tomé & Príncipe',\n",
       " 'deviceCategory_mobile',\n",
       " 'operatingSystem_Chrome OS',\n",
       " 'country_Ukraine',\n",
       " 'browser_NokiaE52-1',\n",
       " 'country_Samoa',\n",
       " 'country_Ireland',\n",
       " 'country_Lithuania',\n",
       " 'country_Bangladesh',\n",
       " 'country_Uzbekistan',\n",
       " 'country_Mauritania',\n",
       " 'browser_Edge',\n",
       " 'operatingSystem_Firefox OS',\n",
       " 'country_Dominica',\n",
       " 'country_Réunion',\n",
       " 'country_Germany',\n",
       " 'country_Philippines',\n",
       " 'country_Burundi',\n",
       " 'continent_(not set)',\n",
       " 'country_Nigeria',\n",
       " 'country_(not set)',\n",
       " 'country_Argentina',\n",
       " 'country_Cayman Islands',\n",
       " 'browser_no-ua',\n",
       " 'country_Bosnia & Herzegovina',\n",
       " 'country_Congo - Brazzaville',\n",
       " 'country_Namibia',\n",
       " 'deviceCategory_tablet',\n",
       " 'browser_UC Browser',\n",
       " 'country_Turkmenistan',\n",
       " 'operatingSystem_(not set)',\n",
       " 'browser_Seznam',\n",
       " 'country_Venezuela',\n",
       " 'medium_cpc',\n",
       " 'browser_Reddit',\n",
       " 'medium_(none)',\n",
       " 'country_Slovenia',\n",
       " 'country_Bermuda',\n",
       " 'browser_Konqueror',\n",
       " 'country_Dominican Republic',\n",
       " 'country_Iceland',\n",
       " 'country_Sweden',\n",
       " 'browser_Lunascape',\n",
       " 'country_St. Vincent & Grenadines',\n",
       " 'browser_IE with Chrome Frame',\n",
       " 'country_Singapore',\n",
       " 'browser_Amazon Silk',\n",
       " 'country_Gabon',\n",
       " 'country_Sint Maarten',\n",
       " 'operatingSystem_FreeBSD',\n",
       " 'channelGrouping_(Other)',\n",
       " 'country_Comoros',\n",
       " 'country_Serbia',\n",
       " 'country_Seychelles',\n",
       " 'country_Caribbean Netherlands',\n",
       " 'country_St. Barthélemy',\n",
       " 'channelGrouping_Organic Search',\n",
       " 'country_Georgia',\n",
       " 'country_Armenia',\n",
       " 'browser_Safari (in-app)',\n",
       " 'country_Guyana',\n",
       " 'country_Chile',\n",
       " 'country_Lesotho',\n",
       " 'browser_SeaMonkey',\n",
       " 'country_Barbados',\n",
       " 'country_Kenya',\n",
       " 'hits',\n",
       " 'deviceCategory_desktop',\n",
       " 'country_Monaco',\n",
       " 'country_Costa Rica',\n",
       " 'country_Greenland',\n",
       " 'browser_Internet Explorer',\n",
       " 'country_Macedonia (FYROM)',\n",
       " 'country_Estonia',\n",
       " 'browser_Nichrome',\n",
       " 'country_Aruba',\n",
       " 'country_Israel',\n",
       " 'country_Mayotte',\n",
       " 'channelGrouping_Direct',\n",
       " 'operatingSystem_iOS',\n",
       " 'country_India',\n",
       " 'browser_YE',\n",
       " 'medium_organic',\n",
       " 'country_Iran',\n",
       " 'country_Canada',\n",
       " 'country_Thailand',\n",
       " 'country_Gibraltar',\n",
       " 'country_Maldives',\n",
       " 'browser_Mozilla Compatible Agent',\n",
       " 'country_Panama',\n",
       " 'country_Malawi',\n",
       " 'country_Trinidad & Tobago',\n",
       " 'country_Rwanda',\n",
       " 'country_Belgium',\n",
       " 'country_Vanuatu',\n",
       " 'browser_[Use default User-agent string] LIVRENPOCHE',\n",
       " 'country_Guinea',\n",
       " 'country_Hungary',\n",
       " 'country_Senegal',\n",
       " 'country_Curaçao',\n",
       " 'country_Tanzania',\n",
       " 'continent_Europe',\n",
       " 'country_Netherlands',\n",
       " 'country_St. Martin',\n",
       " 'country_Pakistan',\n",
       " 'country_France',\n",
       " 'country_Guinea-Bissau',\n",
       " 'country_United Kingdom',\n",
       " 'country_St. Pierre & Miquelon',\n",
       " 'country_Nicaragua',\n",
       " 'country_Libya',\n",
       " 'medium_(not set)',\n",
       " 'operatingSystem_Nintendo WiiU',\n",
       " 'country_Tajikistan',\n",
       " 'visitNumber',\n",
       " 'country_South Africa',\n",
       " 'country_Morocco',\n",
       " 'browser_(not set)',\n",
       " 'country_Faroe Islands',\n",
       " 'country_Turks & Caicos Islands',\n",
       " 'country_Lebanon',\n",
       " 'country_Jordan',\n",
       " 'country_Russia',\n",
       " 'country_Belarus',\n",
       " 'country_Marshall Islands',\n",
       " 'browser_CSM Click',\n",
       " 'country_Norway',\n",
       " 'country_Honduras',\n",
       " 'country_Sri Lanka',\n",
       " 'country_Ghana',\n",
       " 'country_United Arab Emirates',\n",
       " 'browser_HTC802t_TD',\n",
       " 'operatingSystem_SunOS',\n",
       " 'country_Yemen',\n",
       " 'country_El Salvador',\n",
       " 'country_Cyprus',\n",
       " 'visitStartTime',\n",
       " 'country_St. Lucia',\n",
       " 'country_Greece',\n",
       " 'country_Palestine',\n",
       " 'country_Peru',\n",
       " 'country_Uganda',\n",
       " 'channelGrouping_Referral',\n",
       " 'country_Somalia',\n",
       " 'medium_cpm',\n",
       " 'country_Anguilla',\n",
       " 'country_Mozambique',\n",
       " 'country_Antigua & Barbuda',\n",
       " 'country_American Samoa',\n",
       " 'country_Swaziland',\n",
       " 'country_Angola',\n",
       " 'browser_subjectAgent: NoticiasBoom',\n",
       " 'country_Gambia',\n",
       " 'country_Croatia']"
      ]
     },
     "execution_count": 49,
     "metadata": {},
     "output_type": "execute_result"
    }
   ],
   "source": [
    "Xcolumns"
   ]
  },
  {
   "cell_type": "code",
   "execution_count": 50,
   "metadata": {},
   "outputs": [
    {
     "data": {
      "text/html": [
       "<style  type=\"text/css\" >\n",
       "    #T_e64a21b8_78de_11ec_9e36_f0189801e860row0_col0 {\n",
       "            background-color:  #ff0000;\n",
       "            color:  #f1f1f1;\n",
       "        }    #T_e64a21b8_78de_11ec_9e36_f0189801e860row1_col0 {\n",
       "            background-color:  #f5c3c3;\n",
       "            color:  #000000;\n",
       "        }    #T_e64a21b8_78de_11ec_9e36_f0189801e860row2_col0 {\n",
       "            background-color:  #f5c3c3;\n",
       "            color:  #000000;\n",
       "        }    #T_e64a21b8_78de_11ec_9e36_f0189801e860row3_col0 {\n",
       "            background-color:  #f4dbdb;\n",
       "            color:  #000000;\n",
       "        }    #T_e64a21b8_78de_11ec_9e36_f0189801e860row4_col0 {\n",
       "            background-color:  #f3e7e7;\n",
       "            color:  #000000;\n",
       "        }    #T_e64a21b8_78de_11ec_9e36_f0189801e860row5_col0 {\n",
       "            background-color:  #f3eaea;\n",
       "            color:  #000000;\n",
       "        }    #T_e64a21b8_78de_11ec_9e36_f0189801e860row6_col0 {\n",
       "            background-color:  #f3f0f0;\n",
       "            color:  #000000;\n",
       "        }</style><table id=\"T_e64a21b8_78de_11ec_9e36_f0189801e860\" ><thead>    <tr>        <th class=\"blank level0\" ></th>        <th class=\"col_heading level0 col0\" >Correlation to the target</th>    </tr></thead><tbody>\n",
       "                <tr>\n",
       "                        <th id=\"T_e64a21b8_78de_11ec_9e36_f0189801e860level0_row0\" class=\"row_heading level0 row0\" >transactionRevenue</th>\n",
       "                        <td id=\"T_e64a21b8_78de_11ec_9e36_f0189801e860row0_col0\" class=\"data row0 col0\" >1.000000</td>\n",
       "            </tr>\n",
       "            <tr>\n",
       "                        <th id=\"T_e64a21b8_78de_11ec_9e36_f0189801e860level0_row1\" class=\"row_heading level0 row1\" >pageviews</th>\n",
       "                        <td id=\"T_e64a21b8_78de_11ec_9e36_f0189801e860row1_col0\" class=\"data row1 col0\" >0.155590</td>\n",
       "            </tr>\n",
       "            <tr>\n",
       "                        <th id=\"T_e64a21b8_78de_11ec_9e36_f0189801e860level0_row2\" class=\"row_heading level0 row2\" >hits</th>\n",
       "                        <td id=\"T_e64a21b8_78de_11ec_9e36_f0189801e860row2_col0\" class=\"data row2 col0\" >0.154333</td>\n",
       "            </tr>\n",
       "            <tr>\n",
       "                        <th id=\"T_e64a21b8_78de_11ec_9e36_f0189801e860level0_row3\" class=\"row_heading level0 row3\" >visitNumber</th>\n",
       "                        <td id=\"T_e64a21b8_78de_11ec_9e36_f0189801e860row3_col0\" class=\"data row3 col0\" >0.051366</td>\n",
       "            </tr>\n",
       "            <tr>\n",
       "                        <th id=\"T_e64a21b8_78de_11ec_9e36_f0189801e860level0_row4\" class=\"row_heading level0 row4\" >visitStartTime</th>\n",
       "                        <td id=\"T_e64a21b8_78de_11ec_9e36_f0189801e860row4_col0\" class=\"data row4 col0\" >0.002724</td>\n",
       "            </tr>\n",
       "            <tr>\n",
       "                        <th id=\"T_e64a21b8_78de_11ec_9e36_f0189801e860level0_row5\" class=\"row_heading level0 row5\" >isMobile</th>\n",
       "                        <td id=\"T_e64a21b8_78de_11ec_9e36_f0189801e860row5_col0\" class=\"data row5 col0\" >-0.016555</td>\n",
       "            </tr>\n",
       "            <tr>\n",
       "                        <th id=\"T_e64a21b8_78de_11ec_9e36_f0189801e860level0_row6\" class=\"row_heading level0 row6\" >newVisits</th>\n",
       "                        <td id=\"T_e64a21b8_78de_11ec_9e36_f0189801e860row6_col0\" class=\"data row6 col0\" >-0.041164</td>\n",
       "            </tr>\n",
       "    </tbody></table>"
      ],
      "text/plain": [
       "<pandas.io.formats.style.Styler at 0x124df2d90>"
      ]
     },
     "execution_count": 50,
     "metadata": {},
     "output_type": "execute_result"
    }
   ],
   "source": [
    "df1Corr=pd.DataFrame(df[['hits','isMobile','newVisits','pageviews',\n",
    "                         'transactionRevenue','visitNumber','visitStartTime']].corr().unstack().sort_values(ascending=False)['transactionRevenue'],columns=['Correlation to the target'])\n",
    "df1Corr.style.background_gradient(cmap=sns.light_palette(\"red\", as_cmap=True))"
   ]
  },
  {
   "cell_type": "markdown",
   "metadata": {},
   "source": [
    "# Modèles"
   ]
  },
  {
   "cell_type": "markdown",
   "metadata": {},
   "source": [
    "## Random Forest\n",
    "\n"
   ]
  },
  {
   "cell_type": "code",
   "execution_count": 51,
   "metadata": {},
   "outputs": [],
   "source": [
    "nbRow = 100000\n",
    "X=dfClean[Xcolumns][:nbRow]\n",
    "y=np.ravel(dfClean[['transactionRevenue']][:nbRow])"
   ]
  },
  {
   "cell_type": "code",
   "execution_count": 52,
   "metadata": {},
   "outputs": [],
   "source": [
    "from sklearn.model_selection import train_test_split\n",
    "X_train, X_test, y_train, y_test = train_test_split(X, y, random_state=1)"
   ]
  },
  {
   "cell_type": "code",
   "execution_count": 53,
   "metadata": {},
   "outputs": [
    {
     "data": {
      "text/plain": [
       "1.0"
      ]
     },
     "execution_count": 53,
     "metadata": {},
     "output_type": "execute_result"
    }
   ],
   "source": [
    "from sklearn.ensemble import RandomForestClassifier\n",
    "clf = RandomForestClassifier(random_state=1) \n",
    "clf.fit(X, y)\n",
    "clf_pred = clf.predict(X_test) \n",
    "clf_score = clf.score(X_test,y_test)\n",
    "clf_score"
   ]
  },
  {
   "cell_type": "code",
   "execution_count": 58,
   "metadata": {},
   "outputs": [],
   "source": [
    "liste_models = ['RandomForestClassifier']\n",
    "liste_scores = [0.995431]"
   ]
  },
  {
   "cell_type": "markdown",
   "metadata": {},
   "source": [
    "## Linear Regression\n",
    "\n"
   ]
  },
  {
   "cell_type": "code",
   "execution_count": 54,
   "metadata": {},
   "outputs": [
    {
     "data": {
      "text/plain": [
       "-164.56112012301767"
      ]
     },
     "execution_count": 54,
     "metadata": {},
     "output_type": "execute_result"
    }
   ],
   "source": [
    "from sklearn.linear_model import LinearRegression\n",
    "linearReg = LinearRegression(fit_intercept=True)\n",
    "linearReg.fit(X_train, y_train)\n",
    "linearReg_pred = linearReg.predict(X_test)\n",
    "linearReg_score = linearReg.score(X_test,y_test)\n",
    "linearReg_score"
   ]
  },
  {
   "cell_type": "code",
   "execution_count": 82,
   "metadata": {},
   "outputs": [],
   "source": [
    "liste_models.append('LinearRegression')\n",
    "liste_scores.append(linearReg_score)"
   ]
  },
  {
   "cell_type": "markdown",
   "metadata": {},
   "source": [
    "## Simple Tree\n",
    "\n"
   ]
  },
  {
   "cell_type": "code",
   "execution_count": 55,
   "metadata": {},
   "outputs": [
    {
     "data": {
      "text/plain": [
       "-2.3897675618418863"
      ]
     },
     "execution_count": 55,
     "metadata": {},
     "output_type": "execute_result"
    }
   ],
   "source": [
    "from sklearn.tree import DecisionTreeRegressor\n",
    "simple_tree = DecisionTreeRegressor(random_state=1) \n",
    "simple_tree.fit(X_train, y_train)\n",
    "simple_tree_pred = simple_tree.predict(X_test)\n",
    "simple_tree_score = simple_tree.score(X_test,y_test)\n",
    "simple_tree_score"
   ]
  },
  {
   "cell_type": "code",
   "execution_count": 84,
   "metadata": {},
   "outputs": [],
   "source": [
    "liste_models.append('DecisionTreeRegressor')\n",
    "liste_scores.append(simple_tree_score)"
   ]
  },
  {
   "cell_type": "markdown",
   "metadata": {},
   "source": [
    "## Bagging"
   ]
  },
  {
   "cell_type": "code",
   "execution_count": 56,
   "metadata": {},
   "outputs": [
    {
     "data": {
      "text/plain": [
       "-0.437020193641948"
      ]
     },
     "execution_count": 56,
     "metadata": {},
     "output_type": "execute_result"
    }
   ],
   "source": [
    "from sklearn.ensemble import BaggingRegressor\n",
    "bagging = BaggingRegressor(random_state=1)\n",
    "bagging.fit(X_train, y_train)\n",
    "bagging_pred = bagging.predict(X_test)\n",
    "bagging_score = bagging.score(X_test,y_test)\n",
    "bagging_score"
   ]
  },
  {
   "cell_type": "code",
   "execution_count": 86,
   "metadata": {},
   "outputs": [],
   "source": [
    "liste_models.append('BaggingRegressor')\n",
    "liste_scores.append(bagging_score)"
   ]
  },
  {
   "cell_type": "markdown",
   "metadata": {},
   "source": [
    "## Boosting"
   ]
  },
  {
   "cell_type": "code",
   "execution_count": 57,
   "metadata": {},
   "outputs": [
    {
     "ename": "KeyboardInterrupt",
     "evalue": "",
     "output_type": "error",
     "traceback": [
      "\u001b[0;31m---------------------------------------------------------------------------\u001b[0m",
      "\u001b[0;31mKeyboardInterrupt\u001b[0m                         Traceback (most recent call last)",
      "\u001b[0;32m<ipython-input-57-e6818ef1c513>\u001b[0m in \u001b[0;36m<module>\u001b[0;34m\u001b[0m\n\u001b[1;32m      1\u001b[0m \u001b[0;32mfrom\u001b[0m \u001b[0msklearn\u001b[0m\u001b[0;34m.\u001b[0m\u001b[0mensemble\u001b[0m \u001b[0;32mimport\u001b[0m \u001b[0mGradientBoostingClassifier\u001b[0m\u001b[0;34m\u001b[0m\u001b[0;34m\u001b[0m\u001b[0m\n\u001b[1;32m      2\u001b[0m \u001b[0mboosting\u001b[0m \u001b[0;34m=\u001b[0m \u001b[0mGradientBoostingClassifier\u001b[0m\u001b[0;34m(\u001b[0m\u001b[0mrandom_state\u001b[0m\u001b[0;34m=\u001b[0m\u001b[0;36m1\u001b[0m\u001b[0;34m)\u001b[0m\u001b[0;34m\u001b[0m\u001b[0;34m\u001b[0m\u001b[0m\n\u001b[0;32m----> 3\u001b[0;31m \u001b[0mboosting\u001b[0m\u001b[0;34m.\u001b[0m\u001b[0mfit\u001b[0m\u001b[0;34m(\u001b[0m\u001b[0mX_train\u001b[0m\u001b[0;34m,\u001b[0m \u001b[0my_train\u001b[0m\u001b[0;34m)\u001b[0m\u001b[0;34m\u001b[0m\u001b[0;34m\u001b[0m\u001b[0m\n\u001b[0m\u001b[1;32m      4\u001b[0m \u001b[0mboosting_pred\u001b[0m \u001b[0;34m=\u001b[0m \u001b[0mboosting\u001b[0m\u001b[0;34m.\u001b[0m\u001b[0mpredict\u001b[0m\u001b[0;34m(\u001b[0m\u001b[0mX_test\u001b[0m\u001b[0;34m)\u001b[0m\u001b[0;34m\u001b[0m\u001b[0;34m\u001b[0m\u001b[0m\n\u001b[1;32m      5\u001b[0m \u001b[0mboosting_score\u001b[0m \u001b[0;34m=\u001b[0m \u001b[0mboosting\u001b[0m\u001b[0;34m.\u001b[0m\u001b[0mscore\u001b[0m\u001b[0;34m(\u001b[0m\u001b[0mX_test\u001b[0m\u001b[0;34m,\u001b[0m\u001b[0my_test\u001b[0m\u001b[0;34m)\u001b[0m\u001b[0;34m\u001b[0m\u001b[0;34m\u001b[0m\u001b[0m\n",
      "\u001b[0;32m/opt/anaconda3/lib/python3.7/site-packages/sklearn/ensemble/_gb.py\u001b[0m in \u001b[0;36mfit\u001b[0;34m(self, X, y, sample_weight, monitor)\u001b[0m\n\u001b[1;32m   1535\u001b[0m         n_stages = self._fit_stages(\n\u001b[1;32m   1536\u001b[0m             \u001b[0mX\u001b[0m\u001b[0;34m,\u001b[0m \u001b[0my\u001b[0m\u001b[0;34m,\u001b[0m \u001b[0mraw_predictions\u001b[0m\u001b[0;34m,\u001b[0m \u001b[0msample_weight\u001b[0m\u001b[0;34m,\u001b[0m \u001b[0mself\u001b[0m\u001b[0;34m.\u001b[0m\u001b[0m_rng\u001b[0m\u001b[0;34m,\u001b[0m \u001b[0mX_val\u001b[0m\u001b[0;34m,\u001b[0m \u001b[0my_val\u001b[0m\u001b[0;34m,\u001b[0m\u001b[0;34m\u001b[0m\u001b[0;34m\u001b[0m\u001b[0m\n\u001b[0;32m-> 1537\u001b[0;31m             sample_weight_val, begin_at_stage, monitor, X_idx_sorted)\n\u001b[0m\u001b[1;32m   1538\u001b[0m \u001b[0;34m\u001b[0m\u001b[0m\n\u001b[1;32m   1539\u001b[0m         \u001b[0;31m# change shape of arrays after fit (early-stopping or additional ests)\u001b[0m\u001b[0;34m\u001b[0m\u001b[0;34m\u001b[0m\u001b[0;34m\u001b[0m\u001b[0m\n",
      "\u001b[0;32m/opt/anaconda3/lib/python3.7/site-packages/sklearn/ensemble/_gb.py\u001b[0m in \u001b[0;36m_fit_stages\u001b[0;34m(self, X, y, raw_predictions, sample_weight, random_state, X_val, y_val, sample_weight_val, begin_at_stage, monitor, X_idx_sorted)\u001b[0m\n\u001b[1;32m   1592\u001b[0m             raw_predictions = self._fit_stage(\n\u001b[1;32m   1593\u001b[0m                 \u001b[0mi\u001b[0m\u001b[0;34m,\u001b[0m \u001b[0mX\u001b[0m\u001b[0;34m,\u001b[0m \u001b[0my\u001b[0m\u001b[0;34m,\u001b[0m \u001b[0mraw_predictions\u001b[0m\u001b[0;34m,\u001b[0m \u001b[0msample_weight\u001b[0m\u001b[0;34m,\u001b[0m \u001b[0msample_mask\u001b[0m\u001b[0;34m,\u001b[0m\u001b[0;34m\u001b[0m\u001b[0;34m\u001b[0m\u001b[0m\n\u001b[0;32m-> 1594\u001b[0;31m                 random_state, X_idx_sorted, X_csc, X_csr)\n\u001b[0m\u001b[1;32m   1595\u001b[0m \u001b[0;34m\u001b[0m\u001b[0m\n\u001b[1;32m   1596\u001b[0m             \u001b[0;31m# track deviance (= loss)\u001b[0m\u001b[0;34m\u001b[0m\u001b[0;34m\u001b[0m\u001b[0;34m\u001b[0m\u001b[0m\n",
      "\u001b[0;32m/opt/anaconda3/lib/python3.7/site-packages/sklearn/ensemble/_gb.py\u001b[0m in \u001b[0;36m_fit_stage\u001b[0;34m(self, i, X, y, raw_predictions, sample_weight, sample_mask, random_state, X_idx_sorted, X_csc, X_csr)\u001b[0m\n\u001b[1;32m   1220\u001b[0m \u001b[0;34m\u001b[0m\u001b[0m\n\u001b[1;32m   1221\u001b[0m             residual = loss.negative_gradient(y, raw_predictions_copy, k=k,\n\u001b[0;32m-> 1222\u001b[0;31m                                               sample_weight=sample_weight)\n\u001b[0m\u001b[1;32m   1223\u001b[0m \u001b[0;34m\u001b[0m\u001b[0m\n\u001b[1;32m   1224\u001b[0m             \u001b[0;31m# induce regression tree on residuals\u001b[0m\u001b[0;34m\u001b[0m\u001b[0;34m\u001b[0m\u001b[0;34m\u001b[0m\u001b[0m\n",
      "\u001b[0;32m/opt/anaconda3/lib/python3.7/site-packages/sklearn/ensemble/_gb_losses.py\u001b[0m in \u001b[0;36mnegative_gradient\u001b[0;34m(self, y, raw_predictions, k, **kwargs)\u001b[0m\n\u001b[1;32m    736\u001b[0m         \"\"\"\n\u001b[1;32m    737\u001b[0m         return y - np.nan_to_num(np.exp(raw_predictions[:, k] -\n\u001b[0;32m--> 738\u001b[0;31m                                         logsumexp(raw_predictions, axis=1)))\n\u001b[0m\u001b[1;32m    739\u001b[0m \u001b[0;34m\u001b[0m\u001b[0m\n\u001b[1;32m    740\u001b[0m     def _update_terminal_region(self, tree, terminal_regions, leaf, X, y,\n",
      "\u001b[0;32m/opt/anaconda3/lib/python3.7/site-packages/scipy/special/_logsumexp.py\u001b[0m in \u001b[0;36mlogsumexp\u001b[0;34m(a, axis, b, keepdims, return_sign)\u001b[0m\n\u001b[1;32m    110\u001b[0m         \u001b[0mtmp\u001b[0m \u001b[0;34m=\u001b[0m \u001b[0mb\u001b[0m \u001b[0;34m*\u001b[0m \u001b[0mnp\u001b[0m\u001b[0;34m.\u001b[0m\u001b[0mexp\u001b[0m\u001b[0;34m(\u001b[0m\u001b[0ma\u001b[0m \u001b[0;34m-\u001b[0m \u001b[0ma_max\u001b[0m\u001b[0;34m)\u001b[0m\u001b[0;34m\u001b[0m\u001b[0;34m\u001b[0m\u001b[0m\n\u001b[1;32m    111\u001b[0m     \u001b[0;32melse\u001b[0m\u001b[0;34m:\u001b[0m\u001b[0;34m\u001b[0m\u001b[0;34m\u001b[0m\u001b[0m\n\u001b[0;32m--> 112\u001b[0;31m         \u001b[0mtmp\u001b[0m \u001b[0;34m=\u001b[0m \u001b[0mnp\u001b[0m\u001b[0;34m.\u001b[0m\u001b[0mexp\u001b[0m\u001b[0;34m(\u001b[0m\u001b[0ma\u001b[0m \u001b[0;34m-\u001b[0m \u001b[0ma_max\u001b[0m\u001b[0;34m)\u001b[0m\u001b[0;34m\u001b[0m\u001b[0;34m\u001b[0m\u001b[0m\n\u001b[0m\u001b[1;32m    113\u001b[0m \u001b[0;34m\u001b[0m\u001b[0m\n\u001b[1;32m    114\u001b[0m     \u001b[0;31m# suppress warnings about log of zero\u001b[0m\u001b[0;34m\u001b[0m\u001b[0;34m\u001b[0m\u001b[0;34m\u001b[0m\u001b[0m\n",
      "\u001b[0;31mKeyboardInterrupt\u001b[0m: "
     ]
    }
   ],
   "source": [
    "from sklearn.ensemble import GradientBoostingClassifier\n",
    "boosting = GradientBoostingClassifier(random_state=1)\n",
    "boosting.fit(X_train, y_train)\n",
    "boosting_pred = boosting.predict(X_test)\n",
    "boosting_score = boosting.score(X_test,y_test) \n",
    "boosting_score"
   ]
  },
  {
   "cell_type": "code",
   "execution_count": 88,
   "metadata": {},
   "outputs": [],
   "source": [
    "liste_models.append('GradientBoostingClassifier')\n",
    "liste_scores.append(boosting_score)"
   ]
  },
  {
   "cell_type": "markdown",
   "metadata": {},
   "source": [
    "##  KNN"
   ]
  },
  {
   "cell_type": "code",
   "execution_count": 89,
   "metadata": {},
   "outputs": [
    {
     "data": {
      "text/plain": [
       "-0.06297977560158641"
      ]
     },
     "execution_count": 89,
     "metadata": {},
     "output_type": "execute_result"
    }
   ],
   "source": [
    "from sklearn.neighbors import KNeighborsRegressor\n",
    "knn = KNeighborsRegressor()\n",
    "knn.fit(X_train, y_train)\n",
    "knn_pred = knn.predict(X_test)\n",
    "knn_score = knn.score(X_test,y_test)\n",
    "knn_score"
   ]
  },
  {
   "cell_type": "code",
   "execution_count": 90,
   "metadata": {},
   "outputs": [],
   "source": [
    "liste_models.append('KNeighborsRegressor')\n",
    "liste_scores.append(knn_score)"
   ]
  },
  {
   "cell_type": "code",
   "execution_count": 59,
   "metadata": {},
   "outputs": [
    {
     "data": {
      "text/html": [
       "<div>\n",
       "<style scoped>\n",
       "    .dataframe tbody tr th:only-of-type {\n",
       "        vertical-align: middle;\n",
       "    }\n",
       "\n",
       "    .dataframe tbody tr th {\n",
       "        vertical-align: top;\n",
       "    }\n",
       "\n",
       "    .dataframe thead th {\n",
       "        text-align: right;\n",
       "    }\n",
       "</style>\n",
       "<table border=\"1\" class=\"dataframe\">\n",
       "  <thead>\n",
       "    <tr style=\"text-align: right;\">\n",
       "      <th></th>\n",
       "      <th>Scores</th>\n",
       "    </tr>\n",
       "  </thead>\n",
       "  <tbody>\n",
       "    <tr>\n",
       "      <th>RandomForestClassifier</th>\n",
       "      <td>0.995431</td>\n",
       "    </tr>\n",
       "  </tbody>\n",
       "</table>\n",
       "</div>"
      ],
      "text/plain": [
       "                          Scores\n",
       "RandomForestClassifier  0.995431"
      ]
     },
     "execution_count": 59,
     "metadata": {},
     "output_type": "execute_result"
    }
   ],
   "source": [
    "perf = pd.DataFrame(liste_scores,liste_models , ['Scores'])\n",
    "perf.sort_values(by='Scores', ascending=False)"
   ]
  }
 ],
 "metadata": {
  "kernelspec": {
   "display_name": "Python 3",
   "language": "python",
   "name": "python3"
  },
  "language_info": {
   "codemirror_mode": {
    "name": "ipython",
    "version": 3
   },
   "file_extension": ".py",
   "mimetype": "text/x-python",
   "name": "python",
   "nbconvert_exporter": "python",
   "pygments_lexer": "ipython3",
   "version": "3.7.4"
  }
 },
 "nbformat": 4,
 "nbformat_minor": 4
}
